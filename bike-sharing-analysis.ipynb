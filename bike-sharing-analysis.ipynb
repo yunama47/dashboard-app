{
 "cells": [
  {
   "attachments": {},
   "cell_type": "markdown",
   "metadata": {
    "id": "uN6tsFbZ9Pth"
   },
   "source": [
    "import library yang digunakan"
   ]
  },
  {
   "cell_type": "code",
   "execution_count": 1,
   "metadata": {
    "id": "2vju55i23d-K",
    "ExecuteTime": {
     "end_time": "2023-07-05T23:48:47.734526Z",
     "start_time": "2023-07-05T23:48:47.711921600Z"
    }
   },
   "outputs": [],
   "source": [
    "# import os\n",
    "# import gdown\n",
    "# import zipfile\n",
    "import datetime\n",
    "import pandas as pd\n",
    "import numpy as np\n",
    "import seaborn as sns\n",
    "import matplotlib.pyplot as plt"
   ]
  },
  {
   "attachments": {},
   "cell_type": "markdown",
   "metadata": {
    "id": "YTw6aEhPS9mj"
   },
   "source": [
    "# Bike Sharing Dataset"
   ]
  },
  {
   "attachments": {},
   "cell_type": "markdown",
   "metadata": {
    "id": "9z5nIrnqV6FC"
   },
   "source": [
    "mengektrak dataset dari google drive"
   ]
  },
  {
   "cell_type": "code",
   "execution_count": 2,
   "metadata": {
    "colab": {
     "base_uri": "https://localhost:8080/"
    },
    "id": "0F1Uag9YTA-C",
    "outputId": "64560237-bde9-42c3-821f-e822d6dd22a7"
   },
   "outputs": [],
   "source": [
    "# localzip = '/tmp/bike-sharing-dataset.zip'\n",
    "# gdown.download(output=localzip, id='1RaBmV6Q6FYWU4HWZs80Suqd7KQC34diQ')\n",
    "# with zipfile.ZipFile(localzip) as zip:\n",
    "#   zip.extractall('/content')"
   ]
  },
  {
   "cell_type": "code",
   "execution_count": 2,
   "metadata": {
    "colab": {
     "base_uri": "https://localhost:8080/",
     "height": 337
    },
    "id": "wxDIVEiZTok6",
    "outputId": "2fac6df4-d914-4ad8-e967-d383847e8844",
    "ExecuteTime": {
     "end_time": "2023-07-05T23:48:47.861094700Z",
     "start_time": "2023-07-05T23:48:47.734526Z"
    }
   },
   "outputs": [
    {
     "data": {
      "text/plain": "     instant      dteday  season  yr  mnth  holiday  weekday  workingday  \\\n213      214  2011-08-02       3   0     8        0        2           1   \n189      190  2011-07-09       3   0     7        0        6           0   \n436      437  2012-03-12       1   1     3        0        1           1   \n127      128  2011-05-08       2   0     5        0        0           0   \n432      433  2012-03-08       1   1     3        0        4           1   \n\n     weathersit      temp     atemp       hum  windspeed  casual  registered  \\\n213           1  0.783333  0.707071  0.491250   0.205850     801        4044   \n189           1  0.733333  0.664158  0.609167   0.167912    1988        3348   \n436           1  0.466667  0.459592  0.489167   0.207713     838        4460   \n127           1  0.528333  0.518933  0.631667   0.074637    1401        2932   \n432           1  0.527500  0.524604  0.567500   0.441563     486        4896   \n\n      cnt  \n213  4845  \n189  5336  \n436  5298  \n127  4333  \n432  5382  ",
      "text/html": "<div>\n<style scoped>\n    .dataframe tbody tr th:only-of-type {\n        vertical-align: middle;\n    }\n\n    .dataframe tbody tr th {\n        vertical-align: top;\n    }\n\n    .dataframe thead th {\n        text-align: right;\n    }\n</style>\n<table border=\"1\" class=\"dataframe\">\n  <thead>\n    <tr style=\"text-align: right;\">\n      <th></th>\n      <th>instant</th>\n      <th>dteday</th>\n      <th>season</th>\n      <th>yr</th>\n      <th>mnth</th>\n      <th>holiday</th>\n      <th>weekday</th>\n      <th>workingday</th>\n      <th>weathersit</th>\n      <th>temp</th>\n      <th>atemp</th>\n      <th>hum</th>\n      <th>windspeed</th>\n      <th>casual</th>\n      <th>registered</th>\n      <th>cnt</th>\n    </tr>\n  </thead>\n  <tbody>\n    <tr>\n      <th>213</th>\n      <td>214</td>\n      <td>2011-08-02</td>\n      <td>3</td>\n      <td>0</td>\n      <td>8</td>\n      <td>0</td>\n      <td>2</td>\n      <td>1</td>\n      <td>1</td>\n      <td>0.783333</td>\n      <td>0.707071</td>\n      <td>0.491250</td>\n      <td>0.205850</td>\n      <td>801</td>\n      <td>4044</td>\n      <td>4845</td>\n    </tr>\n    <tr>\n      <th>189</th>\n      <td>190</td>\n      <td>2011-07-09</td>\n      <td>3</td>\n      <td>0</td>\n      <td>7</td>\n      <td>0</td>\n      <td>6</td>\n      <td>0</td>\n      <td>1</td>\n      <td>0.733333</td>\n      <td>0.664158</td>\n      <td>0.609167</td>\n      <td>0.167912</td>\n      <td>1988</td>\n      <td>3348</td>\n      <td>5336</td>\n    </tr>\n    <tr>\n      <th>436</th>\n      <td>437</td>\n      <td>2012-03-12</td>\n      <td>1</td>\n      <td>1</td>\n      <td>3</td>\n      <td>0</td>\n      <td>1</td>\n      <td>1</td>\n      <td>1</td>\n      <td>0.466667</td>\n      <td>0.459592</td>\n      <td>0.489167</td>\n      <td>0.207713</td>\n      <td>838</td>\n      <td>4460</td>\n      <td>5298</td>\n    </tr>\n    <tr>\n      <th>127</th>\n      <td>128</td>\n      <td>2011-05-08</td>\n      <td>2</td>\n      <td>0</td>\n      <td>5</td>\n      <td>0</td>\n      <td>0</td>\n      <td>0</td>\n      <td>1</td>\n      <td>0.528333</td>\n      <td>0.518933</td>\n      <td>0.631667</td>\n      <td>0.074637</td>\n      <td>1401</td>\n      <td>2932</td>\n      <td>4333</td>\n    </tr>\n    <tr>\n      <th>432</th>\n      <td>433</td>\n      <td>2012-03-08</td>\n      <td>1</td>\n      <td>1</td>\n      <td>3</td>\n      <td>0</td>\n      <td>4</td>\n      <td>1</td>\n      <td>1</td>\n      <td>0.527500</td>\n      <td>0.524604</td>\n      <td>0.567500</td>\n      <td>0.441563</td>\n      <td>486</td>\n      <td>4896</td>\n      <td>5382</td>\n    </tr>\n  </tbody>\n</table>\n</div>"
     },
     "execution_count": 2,
     "metadata": {},
     "output_type": "execute_result"
    }
   ],
   "source": [
    "day_df = pd.read_csv('day.csv')\n",
    "day_df.sample(5)"
   ]
  },
  {
   "cell_type": "code",
   "execution_count": 3,
   "metadata": {
    "colab": {
     "base_uri": "https://localhost:8080/",
     "height": 250
    },
    "id": "-l5KBGsHVRV2",
    "outputId": "91a97bbc-c62c-4b01-c134-5d169f9f1426",
    "ExecuteTime": {
     "end_time": "2023-07-05T23:48:48.136479Z",
     "start_time": "2023-07-05T23:48:47.856421200Z"
    }
   },
   "outputs": [
    {
     "data": {
      "text/plain": "       instant      dteday  season  yr  mnth  hr  holiday  weekday  \\\n2088      2089  2011-04-01       2   0     4  21        0        5   \n11880    11881  2012-05-15       2   1     5   5        0        2   \n13712    13713  2012-07-30       3   1     7  13        0        1   \n14948    14949  2012-09-20       3   1     9   1        0        4   \n9021      9022  2012-01-16       1   1     1  18        1        1   \n\n       workingday  weathersit  temp   atemp   hum  windspeed  casual  \\\n2088            1           1  0.32  0.3333  0.53     0.1343       9   \n11880           1           3  0.56  0.5303  0.94     0.2239       0   \n13712           1           1  0.80  0.7424  0.49     0.1642      57   \n14948           1           1  0.46  0.4545  0.72     0.1045       4   \n9021            0           1  0.26  0.2273  0.52     0.3284       6   \n\n       registered  cnt  \n2088           84   93  \n11880           8    8  \n13712         169  226  \n14948          14   18  \n9021          175  181  ",
      "text/html": "<div>\n<style scoped>\n    .dataframe tbody tr th:only-of-type {\n        vertical-align: middle;\n    }\n\n    .dataframe tbody tr th {\n        vertical-align: top;\n    }\n\n    .dataframe thead th {\n        text-align: right;\n    }\n</style>\n<table border=\"1\" class=\"dataframe\">\n  <thead>\n    <tr style=\"text-align: right;\">\n      <th></th>\n      <th>instant</th>\n      <th>dteday</th>\n      <th>season</th>\n      <th>yr</th>\n      <th>mnth</th>\n      <th>hr</th>\n      <th>holiday</th>\n      <th>weekday</th>\n      <th>workingday</th>\n      <th>weathersit</th>\n      <th>temp</th>\n      <th>atemp</th>\n      <th>hum</th>\n      <th>windspeed</th>\n      <th>casual</th>\n      <th>registered</th>\n      <th>cnt</th>\n    </tr>\n  </thead>\n  <tbody>\n    <tr>\n      <th>2088</th>\n      <td>2089</td>\n      <td>2011-04-01</td>\n      <td>2</td>\n      <td>0</td>\n      <td>4</td>\n      <td>21</td>\n      <td>0</td>\n      <td>5</td>\n      <td>1</td>\n      <td>1</td>\n      <td>0.32</td>\n      <td>0.3333</td>\n      <td>0.53</td>\n      <td>0.1343</td>\n      <td>9</td>\n      <td>84</td>\n      <td>93</td>\n    </tr>\n    <tr>\n      <th>11880</th>\n      <td>11881</td>\n      <td>2012-05-15</td>\n      <td>2</td>\n      <td>1</td>\n      <td>5</td>\n      <td>5</td>\n      <td>0</td>\n      <td>2</td>\n      <td>1</td>\n      <td>3</td>\n      <td>0.56</td>\n      <td>0.5303</td>\n      <td>0.94</td>\n      <td>0.2239</td>\n      <td>0</td>\n      <td>8</td>\n      <td>8</td>\n    </tr>\n    <tr>\n      <th>13712</th>\n      <td>13713</td>\n      <td>2012-07-30</td>\n      <td>3</td>\n      <td>1</td>\n      <td>7</td>\n      <td>13</td>\n      <td>0</td>\n      <td>1</td>\n      <td>1</td>\n      <td>1</td>\n      <td>0.80</td>\n      <td>0.7424</td>\n      <td>0.49</td>\n      <td>0.1642</td>\n      <td>57</td>\n      <td>169</td>\n      <td>226</td>\n    </tr>\n    <tr>\n      <th>14948</th>\n      <td>14949</td>\n      <td>2012-09-20</td>\n      <td>3</td>\n      <td>1</td>\n      <td>9</td>\n      <td>1</td>\n      <td>0</td>\n      <td>4</td>\n      <td>1</td>\n      <td>1</td>\n      <td>0.46</td>\n      <td>0.4545</td>\n      <td>0.72</td>\n      <td>0.1045</td>\n      <td>4</td>\n      <td>14</td>\n      <td>18</td>\n    </tr>\n    <tr>\n      <th>9021</th>\n      <td>9022</td>\n      <td>2012-01-16</td>\n      <td>1</td>\n      <td>1</td>\n      <td>1</td>\n      <td>18</td>\n      <td>1</td>\n      <td>1</td>\n      <td>0</td>\n      <td>1</td>\n      <td>0.26</td>\n      <td>0.2273</td>\n      <td>0.52</td>\n      <td>0.3284</td>\n      <td>6</td>\n      <td>175</td>\n      <td>181</td>\n    </tr>\n  </tbody>\n</table>\n</div>"
     },
     "execution_count": 3,
     "metadata": {},
     "output_type": "execute_result"
    }
   ],
   "source": [
    "hour_df = pd.read_csv('hour.csv')\n",
    "hour_df.sample(5)"
   ]
  },
  {
   "attachments": {},
   "cell_type": "markdown",
   "metadata": {
    "id": "VTLWeHUwfVbF"
   },
   "source": [
    "membuka file `Readme.txt` guna mengetahui deskripsi setiap kolom"
   ]
  },
  {
   "cell_type": "code",
   "execution_count": 5,
   "metadata": {
    "id": "_X2kFte6fV7s"
   },
   "outputs": [],
   "source": [
    "# ! cat Readme.txt"
   ]
  },
  {
   "attachments": {},
   "cell_type": "markdown",
   "metadata": {
    "id": "zoAgSYg8mVxk"
   },
   "source": [
    "### Dataset backgroud :\n",
    "\n",
    ">Bike sharing systems are new generation of traditional bike rentals where whole process from membership, rental and return\n",
    "back has become automatic. Through these systems, user is able to easily rent a bike from a particular position and return\n",
    "back at another position. Currently, there are about over 500 bike-sharing programs around the world which is composed of\n",
    "over 500 thousands bicycles. Today, there exists great interest in these systems due to their important role in traffic,\n",
    "environmental and health issues.\n",
    "\n",
    ">Apart from interesting real world applications of bike sharing systems, the characteristics of data being generated by\n",
    "these systems make them attractive for the research. Opposed to other transport services such as bus or subway, the duration\n",
    "of travel, departure and arrival position is explicitly recorded in these systems. This feature turns bike sharing system into\n",
    "a virtual sensor network that can be used for sensing mobility in the city. Hence, it is expected that most of important\n",
    "events in the city could be detected via monitoring these data.\n",
    "\n",
    "---\n",
    "### Dataset characteristics\n",
    "\n",
    "Both hour.csv and day.csv have the following fields, except hr which is not available in day.csv\n",
    "\n",
    "\t- instant: record index\n",
    "\t- dteday : date\n",
    "\t- season : season (1:springer, 2:summer, 3:fall, 4:winter)\n",
    "\t- yr : year (0: 2011, 1:2012)\n",
    "\t- mnth : month ( 1 to 12)\n",
    "\t- hr : hour (0 to 23)\n",
    "\t- holiday : weather day is holiday or not (extracted from http://dchr.dc.gov/page/holiday-schedule)\n",
    "\t- weekday : day of the week\n",
    "\t- workingday : if day is neither weekend nor holiday is 1, otherwise is 0.\n",
    "\t- weathersit :\n",
    "\t\t- 1: Clear, Few clouds, Partly cloudy, Partly cloudy\n",
    "\t\t- 2: Mist + Cloudy, Mist + Broken clouds, Mist + Few clouds, Mist\n",
    "\t\t- 3: Light Snow, Light Rain + Thunderstorm + Scattered clouds, Light Rain + Scattered clouds\n",
    "\t\t- 4: Heavy Rain + Ice Pallets + Thunderstorm + Mist, Snow + Fog\n",
    "\t- temp : Normalized temperature in Celsius. The values are divided to 41 (max)\n",
    "\t- atemp: Normalized feeling temperature in Celsius. The values are divided to 50 (max)\n",
    "\t- hum: Normalized humidity. The values are divided to 100 (max)\n",
    "\t- windspeed: Normalized wind speed. The values are divided to 67 (max)\n",
    "\t- casual: count of casual users\n",
    "\t- registered: count of registered users\n",
    "\t- cnt: count of total rental bikes including both casual and registered"
   ]
  },
  {
   "cell_type": "markdown",
   "source": [],
   "metadata": {
    "collapsed": false
   }
  },
  {
   "cell_type": "markdown",
   "source": [
    "## Problem Statement\n",
    "\n",
    "Berdasarkan deskripsi latar belakang dari dataset Bike-Sharing ini, berikut merupakan pertanyaan analisis yang akan saya gunakan sebagai acuan\n",
    "\n",
    "> Bagaimana pola permintaan dari penggunaan sepeda ? kapan saat permintaan relatif tinggi dan kapan saat permintaan relatif rendah\n",
    "\n",
    "> Apa faktor utama yang mengakibatkan naik turunnya permintaan ?\n"
   ],
   "metadata": {
    "collapsed": false
   }
  },
  {
   "attachments": {},
   "cell_type": "markdown",
   "metadata": {
    "id": "1RGPbsXhWOsE"
   },
   "source": [
    "## Data Wrangling"
   ]
  },
  {
   "attachments": {},
   "cell_type": "markdown",
   "metadata": {
    "id": "9_-A6-wDdwKt"
   },
   "source": [
    "mengecek info masing-masing df"
   ]
  },
  {
   "cell_type": "code",
   "execution_count": 6,
   "metadata": {
    "colab": {
     "base_uri": "https://localhost:8080/"
    },
    "id": "hAtaFYeUXi8X",
    "outputId": "a0d5ba38-2687-4a54-c263-b63639a70ab8"
   },
   "outputs": [
    {
     "name": "stdout",
     "output_type": "stream",
     "text": [
      "<class 'pandas.core.frame.DataFrame'>\n",
      "RangeIndex: 731 entries, 0 to 730\n",
      "Data columns (total 16 columns):\n",
      " #   Column      Non-Null Count  Dtype  \n",
      "---  ------      --------------  -----  \n",
      " 0   instant     731 non-null    int64  \n",
      " 1   dteday      731 non-null    object \n",
      " 2   season      731 non-null    int64  \n",
      " 3   yr          731 non-null    int64  \n",
      " 4   mnth        731 non-null    int64  \n",
      " 5   holiday     731 non-null    int64  \n",
      " 6   weekday     731 non-null    int64  \n",
      " 7   workingday  731 non-null    int64  \n",
      " 8   weathersit  731 non-null    int64  \n",
      " 9   temp        731 non-null    float64\n",
      " 10  atemp       731 non-null    float64\n",
      " 11  hum         731 non-null    float64\n",
      " 12  windspeed   731 non-null    float64\n",
      " 13  casual      731 non-null    int64  \n",
      " 14  registered  731 non-null    int64  \n",
      " 15  cnt         731 non-null    int64  \n",
      "dtypes: float64(4), int64(11), object(1)\n",
      "memory usage: 91.5+ KB\n"
     ]
    }
   ],
   "source": [
    "day_df.info()"
   ]
  },
  {
   "cell_type": "code",
   "execution_count": 7,
   "metadata": {
    "colab": {
     "base_uri": "https://localhost:8080/"
    },
    "id": "BlZrLkYDXvoU",
    "outputId": "6476ea33-e967-4028-cda5-baaa02fb361f"
   },
   "outputs": [
    {
     "name": "stdout",
     "output_type": "stream",
     "text": [
      "<class 'pandas.core.frame.DataFrame'>\n",
      "RangeIndex: 17379 entries, 0 to 17378\n",
      "Data columns (total 17 columns):\n",
      " #   Column      Non-Null Count  Dtype  \n",
      "---  ------      --------------  -----  \n",
      " 0   instant     17379 non-null  int64  \n",
      " 1   dteday      17379 non-null  object \n",
      " 2   season      17379 non-null  int64  \n",
      " 3   yr          17379 non-null  int64  \n",
      " 4   mnth        17379 non-null  int64  \n",
      " 5   hr          17379 non-null  int64  \n",
      " 6   holiday     17379 non-null  int64  \n",
      " 7   weekday     17379 non-null  int64  \n",
      " 8   workingday  17379 non-null  int64  \n",
      " 9   weathersit  17379 non-null  int64  \n",
      " 10  temp        17379 non-null  float64\n",
      " 11  atemp       17379 non-null  float64\n",
      " 12  hum         17379 non-null  float64\n",
      " 13  windspeed   17379 non-null  float64\n",
      " 14  casual      17379 non-null  int64  \n",
      " 15  registered  17379 non-null  int64  \n",
      " 16  cnt         17379 non-null  int64  \n",
      "dtypes: float64(4), int64(12), object(1)\n",
      "memory usage: 2.3+ MB\n"
     ]
    }
   ],
   "source": [
    "hour_df.info()"
   ]
  },
  {
   "attachments": {},
   "cell_type": "markdown",
   "metadata": {
    "id": "-cFZ1r_TdlVc"
   },
   "source": [
    "Berdasarkan info diatas , kita dapat mengetahui bahwa tidak terdapat kolom dengan missing value. Untuk kolom tanggal yaitu `dteday` akan saya biarkan dalam bentuk string terlebih dahulu. Selanjutnya kita akan mengecek apakah ada data yang terduplikasi."
   ]
  },
  {
   "cell_type": "code",
   "execution_count": 8,
   "metadata": {
    "colab": {
     "base_uri": "https://localhost:8080/"
    },
    "id": "70YQi-RaenGs",
    "outputId": "0592e338-b5df-480e-fa2b-90bcdf865ef1"
   },
   "outputs": [
    {
     "data": {
      "text/plain": [
       "0"
      ]
     },
     "execution_count": 8,
     "metadata": {},
     "output_type": "execute_result"
    }
   ],
   "source": [
    "day_df.duplicated().sum()"
   ]
  },
  {
   "cell_type": "code",
   "execution_count": 9,
   "metadata": {
    "colab": {
     "base_uri": "https://localhost:8080/"
    },
    "id": "bPBcoPICesVF",
    "outputId": "c0b7e1d1-3a07-476f-dbb4-f15bd0cdf2c4"
   },
   "outputs": [
    {
     "data": {
      "text/plain": [
       "0"
      ]
     },
     "execution_count": 9,
     "metadata": {},
     "output_type": "execute_result"
    }
   ],
   "source": [
    "hour_df.duplicated().sum()"
   ]
  },
  {
   "attachments": {},
   "cell_type": "markdown",
   "metadata": {
    "id": "xeiPxRmLe3At"
   },
   "source": [
    "Terlihat bahwa tidak ada baris yang terduplikasi, selanjutnnya kita akan melihat apakah ada data yang tidak akurat."
   ]
  },
  {
   "cell_type": "code",
   "execution_count": 10,
   "metadata": {
    "colab": {
     "base_uri": "https://localhost:8080/",
     "height": 475
    },
    "id": "6vvhYr3ye3mm",
    "outputId": "a5976a3b-7843-4805-f3e8-db2d5d090ef8"
   },
   "outputs": [
    {
     "data": {
      "text/html": [
       "<div>\n",
       "<style scoped>\n",
       "    .dataframe tbody tr th:only-of-type {\n",
       "        vertical-align: middle;\n",
       "    }\n",
       "\n",
       "    .dataframe tbody tr th {\n",
       "        vertical-align: top;\n",
       "    }\n",
       "\n",
       "    .dataframe thead th {\n",
       "        text-align: right;\n",
       "    }\n",
       "</style>\n",
       "<table border=\"1\" class=\"dataframe\">\n",
       "  <thead>\n",
       "    <tr style=\"text-align: right;\">\n",
       "      <th></th>\n",
       "      <th>instant</th>\n",
       "      <th>dteday</th>\n",
       "      <th>season</th>\n",
       "      <th>yr</th>\n",
       "      <th>mnth</th>\n",
       "      <th>holiday</th>\n",
       "      <th>weekday</th>\n",
       "      <th>workingday</th>\n",
       "      <th>weathersit</th>\n",
       "      <th>temp</th>\n",
       "      <th>atemp</th>\n",
       "      <th>hum</th>\n",
       "      <th>windspeed</th>\n",
       "      <th>casual</th>\n",
       "      <th>registered</th>\n",
       "      <th>cnt</th>\n",
       "    </tr>\n",
       "  </thead>\n",
       "  <tbody>\n",
       "    <tr>\n",
       "      <th>count</th>\n",
       "      <td>731.000000</td>\n",
       "      <td>731</td>\n",
       "      <td>731.000000</td>\n",
       "      <td>731.000000</td>\n",
       "      <td>731.000000</td>\n",
       "      <td>731.000000</td>\n",
       "      <td>731.000000</td>\n",
       "      <td>731.000000</td>\n",
       "      <td>731.000000</td>\n",
       "      <td>731.000000</td>\n",
       "      <td>731.000000</td>\n",
       "      <td>731.000000</td>\n",
       "      <td>731.000000</td>\n",
       "      <td>731.000000</td>\n",
       "      <td>731.000000</td>\n",
       "      <td>731.000000</td>\n",
       "    </tr>\n",
       "    <tr>\n",
       "      <th>unique</th>\n",
       "      <td>NaN</td>\n",
       "      <td>731</td>\n",
       "      <td>NaN</td>\n",
       "      <td>NaN</td>\n",
       "      <td>NaN</td>\n",
       "      <td>NaN</td>\n",
       "      <td>NaN</td>\n",
       "      <td>NaN</td>\n",
       "      <td>NaN</td>\n",
       "      <td>NaN</td>\n",
       "      <td>NaN</td>\n",
       "      <td>NaN</td>\n",
       "      <td>NaN</td>\n",
       "      <td>NaN</td>\n",
       "      <td>NaN</td>\n",
       "      <td>NaN</td>\n",
       "    </tr>\n",
       "    <tr>\n",
       "      <th>top</th>\n",
       "      <td>NaN</td>\n",
       "      <td>2011-01-01</td>\n",
       "      <td>NaN</td>\n",
       "      <td>NaN</td>\n",
       "      <td>NaN</td>\n",
       "      <td>NaN</td>\n",
       "      <td>NaN</td>\n",
       "      <td>NaN</td>\n",
       "      <td>NaN</td>\n",
       "      <td>NaN</td>\n",
       "      <td>NaN</td>\n",
       "      <td>NaN</td>\n",
       "      <td>NaN</td>\n",
       "      <td>NaN</td>\n",
       "      <td>NaN</td>\n",
       "      <td>NaN</td>\n",
       "    </tr>\n",
       "    <tr>\n",
       "      <th>freq</th>\n",
       "      <td>NaN</td>\n",
       "      <td>1</td>\n",
       "      <td>NaN</td>\n",
       "      <td>NaN</td>\n",
       "      <td>NaN</td>\n",
       "      <td>NaN</td>\n",
       "      <td>NaN</td>\n",
       "      <td>NaN</td>\n",
       "      <td>NaN</td>\n",
       "      <td>NaN</td>\n",
       "      <td>NaN</td>\n",
       "      <td>NaN</td>\n",
       "      <td>NaN</td>\n",
       "      <td>NaN</td>\n",
       "      <td>NaN</td>\n",
       "      <td>NaN</td>\n",
       "    </tr>\n",
       "    <tr>\n",
       "      <th>mean</th>\n",
       "      <td>366.000000</td>\n",
       "      <td>NaN</td>\n",
       "      <td>2.496580</td>\n",
       "      <td>0.500684</td>\n",
       "      <td>6.519836</td>\n",
       "      <td>0.028728</td>\n",
       "      <td>2.997264</td>\n",
       "      <td>0.683995</td>\n",
       "      <td>1.395349</td>\n",
       "      <td>0.495385</td>\n",
       "      <td>0.474354</td>\n",
       "      <td>0.627894</td>\n",
       "      <td>0.190486</td>\n",
       "      <td>848.176471</td>\n",
       "      <td>3656.172367</td>\n",
       "      <td>4504.348837</td>\n",
       "    </tr>\n",
       "    <tr>\n",
       "      <th>std</th>\n",
       "      <td>211.165812</td>\n",
       "      <td>NaN</td>\n",
       "      <td>1.110807</td>\n",
       "      <td>0.500342</td>\n",
       "      <td>3.451913</td>\n",
       "      <td>0.167155</td>\n",
       "      <td>2.004787</td>\n",
       "      <td>0.465233</td>\n",
       "      <td>0.544894</td>\n",
       "      <td>0.183051</td>\n",
       "      <td>0.162961</td>\n",
       "      <td>0.142429</td>\n",
       "      <td>0.077498</td>\n",
       "      <td>686.622488</td>\n",
       "      <td>1560.256377</td>\n",
       "      <td>1937.211452</td>\n",
       "    </tr>\n",
       "    <tr>\n",
       "      <th>min</th>\n",
       "      <td>1.000000</td>\n",
       "      <td>NaN</td>\n",
       "      <td>1.000000</td>\n",
       "      <td>0.000000</td>\n",
       "      <td>1.000000</td>\n",
       "      <td>0.000000</td>\n",
       "      <td>0.000000</td>\n",
       "      <td>0.000000</td>\n",
       "      <td>1.000000</td>\n",
       "      <td>0.059130</td>\n",
       "      <td>0.079070</td>\n",
       "      <td>0.000000</td>\n",
       "      <td>0.022392</td>\n",
       "      <td>2.000000</td>\n",
       "      <td>20.000000</td>\n",
       "      <td>22.000000</td>\n",
       "    </tr>\n",
       "    <tr>\n",
       "      <th>25%</th>\n",
       "      <td>183.500000</td>\n",
       "      <td>NaN</td>\n",
       "      <td>2.000000</td>\n",
       "      <td>0.000000</td>\n",
       "      <td>4.000000</td>\n",
       "      <td>0.000000</td>\n",
       "      <td>1.000000</td>\n",
       "      <td>0.000000</td>\n",
       "      <td>1.000000</td>\n",
       "      <td>0.337083</td>\n",
       "      <td>0.337842</td>\n",
       "      <td>0.520000</td>\n",
       "      <td>0.134950</td>\n",
       "      <td>315.500000</td>\n",
       "      <td>2497.000000</td>\n",
       "      <td>3152.000000</td>\n",
       "    </tr>\n",
       "    <tr>\n",
       "      <th>50%</th>\n",
       "      <td>366.000000</td>\n",
       "      <td>NaN</td>\n",
       "      <td>3.000000</td>\n",
       "      <td>1.000000</td>\n",
       "      <td>7.000000</td>\n",
       "      <td>0.000000</td>\n",
       "      <td>3.000000</td>\n",
       "      <td>1.000000</td>\n",
       "      <td>1.000000</td>\n",
       "      <td>0.498333</td>\n",
       "      <td>0.486733</td>\n",
       "      <td>0.626667</td>\n",
       "      <td>0.180975</td>\n",
       "      <td>713.000000</td>\n",
       "      <td>3662.000000</td>\n",
       "      <td>4548.000000</td>\n",
       "    </tr>\n",
       "    <tr>\n",
       "      <th>75%</th>\n",
       "      <td>548.500000</td>\n",
       "      <td>NaN</td>\n",
       "      <td>3.000000</td>\n",
       "      <td>1.000000</td>\n",
       "      <td>10.000000</td>\n",
       "      <td>0.000000</td>\n",
       "      <td>5.000000</td>\n",
       "      <td>1.000000</td>\n",
       "      <td>2.000000</td>\n",
       "      <td>0.655417</td>\n",
       "      <td>0.608602</td>\n",
       "      <td>0.730209</td>\n",
       "      <td>0.233214</td>\n",
       "      <td>1096.000000</td>\n",
       "      <td>4776.500000</td>\n",
       "      <td>5956.000000</td>\n",
       "    </tr>\n",
       "    <tr>\n",
       "      <th>max</th>\n",
       "      <td>731.000000</td>\n",
       "      <td>NaN</td>\n",
       "      <td>4.000000</td>\n",
       "      <td>1.000000</td>\n",
       "      <td>12.000000</td>\n",
       "      <td>1.000000</td>\n",
       "      <td>6.000000</td>\n",
       "      <td>1.000000</td>\n",
       "      <td>3.000000</td>\n",
       "      <td>0.861667</td>\n",
       "      <td>0.840896</td>\n",
       "      <td>0.972500</td>\n",
       "      <td>0.507463</td>\n",
       "      <td>3410.000000</td>\n",
       "      <td>6946.000000</td>\n",
       "      <td>8714.000000</td>\n",
       "    </tr>\n",
       "  </tbody>\n",
       "</table>\n",
       "</div>"
      ],
      "text/plain": [
       "           instant      dteday      season          yr        mnth  \\\n",
       "count   731.000000         731  731.000000  731.000000  731.000000   \n",
       "unique         NaN         731         NaN         NaN         NaN   \n",
       "top            NaN  2011-01-01         NaN         NaN         NaN   \n",
       "freq           NaN           1         NaN         NaN         NaN   \n",
       "mean    366.000000         NaN    2.496580    0.500684    6.519836   \n",
       "std     211.165812         NaN    1.110807    0.500342    3.451913   \n",
       "min       1.000000         NaN    1.000000    0.000000    1.000000   \n",
       "25%     183.500000         NaN    2.000000    0.000000    4.000000   \n",
       "50%     366.000000         NaN    3.000000    1.000000    7.000000   \n",
       "75%     548.500000         NaN    3.000000    1.000000   10.000000   \n",
       "max     731.000000         NaN    4.000000    1.000000   12.000000   \n",
       "\n",
       "           holiday     weekday  workingday  weathersit        temp  \\\n",
       "count   731.000000  731.000000  731.000000  731.000000  731.000000   \n",
       "unique         NaN         NaN         NaN         NaN         NaN   \n",
       "top            NaN         NaN         NaN         NaN         NaN   \n",
       "freq           NaN         NaN         NaN         NaN         NaN   \n",
       "mean      0.028728    2.997264    0.683995    1.395349    0.495385   \n",
       "std       0.167155    2.004787    0.465233    0.544894    0.183051   \n",
       "min       0.000000    0.000000    0.000000    1.000000    0.059130   \n",
       "25%       0.000000    1.000000    0.000000    1.000000    0.337083   \n",
       "50%       0.000000    3.000000    1.000000    1.000000    0.498333   \n",
       "75%       0.000000    5.000000    1.000000    2.000000    0.655417   \n",
       "max       1.000000    6.000000    1.000000    3.000000    0.861667   \n",
       "\n",
       "             atemp         hum   windspeed       casual   registered  \\\n",
       "count   731.000000  731.000000  731.000000   731.000000   731.000000   \n",
       "unique         NaN         NaN         NaN          NaN          NaN   \n",
       "top            NaN         NaN         NaN          NaN          NaN   \n",
       "freq           NaN         NaN         NaN          NaN          NaN   \n",
       "mean      0.474354    0.627894    0.190486   848.176471  3656.172367   \n",
       "std       0.162961    0.142429    0.077498   686.622488  1560.256377   \n",
       "min       0.079070    0.000000    0.022392     2.000000    20.000000   \n",
       "25%       0.337842    0.520000    0.134950   315.500000  2497.000000   \n",
       "50%       0.486733    0.626667    0.180975   713.000000  3662.000000   \n",
       "75%       0.608602    0.730209    0.233214  1096.000000  4776.500000   \n",
       "max       0.840896    0.972500    0.507463  3410.000000  6946.000000   \n",
       "\n",
       "                cnt  \n",
       "count    731.000000  \n",
       "unique          NaN  \n",
       "top             NaN  \n",
       "freq            NaN  \n",
       "mean    4504.348837  \n",
       "std     1937.211452  \n",
       "min       22.000000  \n",
       "25%     3152.000000  \n",
       "50%     4548.000000  \n",
       "75%     5956.000000  \n",
       "max     8714.000000  "
      ]
     },
     "execution_count": 10,
     "metadata": {},
     "output_type": "execute_result"
    }
   ],
   "source": [
    "day_df.describe(include='all')"
   ]
  },
  {
   "cell_type": "code",
   "execution_count": 11,
   "metadata": {
    "colab": {
     "base_uri": "https://localhost:8080/",
     "height": 475
    },
    "id": "znB05EAefKv4",
    "outputId": "b979c82c-ecba-4b9f-d103-fe7f8b8efebf"
   },
   "outputs": [
    {
     "data": {
      "text/html": [
       "<div>\n",
       "<style scoped>\n",
       "    .dataframe tbody tr th:only-of-type {\n",
       "        vertical-align: middle;\n",
       "    }\n",
       "\n",
       "    .dataframe tbody tr th {\n",
       "        vertical-align: top;\n",
       "    }\n",
       "\n",
       "    .dataframe thead th {\n",
       "        text-align: right;\n",
       "    }\n",
       "</style>\n",
       "<table border=\"1\" class=\"dataframe\">\n",
       "  <thead>\n",
       "    <tr style=\"text-align: right;\">\n",
       "      <th></th>\n",
       "      <th>instant</th>\n",
       "      <th>dteday</th>\n",
       "      <th>season</th>\n",
       "      <th>yr</th>\n",
       "      <th>mnth</th>\n",
       "      <th>hr</th>\n",
       "      <th>holiday</th>\n",
       "      <th>weekday</th>\n",
       "      <th>workingday</th>\n",
       "      <th>weathersit</th>\n",
       "      <th>temp</th>\n",
       "      <th>atemp</th>\n",
       "      <th>hum</th>\n",
       "      <th>windspeed</th>\n",
       "      <th>casual</th>\n",
       "      <th>registered</th>\n",
       "      <th>cnt</th>\n",
       "    </tr>\n",
       "  </thead>\n",
       "  <tbody>\n",
       "    <tr>\n",
       "      <th>count</th>\n",
       "      <td>17379.0000</td>\n",
       "      <td>17379</td>\n",
       "      <td>17379.000000</td>\n",
       "      <td>17379.000000</td>\n",
       "      <td>17379.000000</td>\n",
       "      <td>17379.000000</td>\n",
       "      <td>17379.000000</td>\n",
       "      <td>17379.000000</td>\n",
       "      <td>17379.000000</td>\n",
       "      <td>17379.000000</td>\n",
       "      <td>17379.000000</td>\n",
       "      <td>17379.000000</td>\n",
       "      <td>17379.000000</td>\n",
       "      <td>17379.000000</td>\n",
       "      <td>17379.000000</td>\n",
       "      <td>17379.000000</td>\n",
       "      <td>17379.000000</td>\n",
       "    </tr>\n",
       "    <tr>\n",
       "      <th>unique</th>\n",
       "      <td>NaN</td>\n",
       "      <td>731</td>\n",
       "      <td>NaN</td>\n",
       "      <td>NaN</td>\n",
       "      <td>NaN</td>\n",
       "      <td>NaN</td>\n",
       "      <td>NaN</td>\n",
       "      <td>NaN</td>\n",
       "      <td>NaN</td>\n",
       "      <td>NaN</td>\n",
       "      <td>NaN</td>\n",
       "      <td>NaN</td>\n",
       "      <td>NaN</td>\n",
       "      <td>NaN</td>\n",
       "      <td>NaN</td>\n",
       "      <td>NaN</td>\n",
       "      <td>NaN</td>\n",
       "    </tr>\n",
       "    <tr>\n",
       "      <th>top</th>\n",
       "      <td>NaN</td>\n",
       "      <td>2011-01-01</td>\n",
       "      <td>NaN</td>\n",
       "      <td>NaN</td>\n",
       "      <td>NaN</td>\n",
       "      <td>NaN</td>\n",
       "      <td>NaN</td>\n",
       "      <td>NaN</td>\n",
       "      <td>NaN</td>\n",
       "      <td>NaN</td>\n",
       "      <td>NaN</td>\n",
       "      <td>NaN</td>\n",
       "      <td>NaN</td>\n",
       "      <td>NaN</td>\n",
       "      <td>NaN</td>\n",
       "      <td>NaN</td>\n",
       "      <td>NaN</td>\n",
       "    </tr>\n",
       "    <tr>\n",
       "      <th>freq</th>\n",
       "      <td>NaN</td>\n",
       "      <td>24</td>\n",
       "      <td>NaN</td>\n",
       "      <td>NaN</td>\n",
       "      <td>NaN</td>\n",
       "      <td>NaN</td>\n",
       "      <td>NaN</td>\n",
       "      <td>NaN</td>\n",
       "      <td>NaN</td>\n",
       "      <td>NaN</td>\n",
       "      <td>NaN</td>\n",
       "      <td>NaN</td>\n",
       "      <td>NaN</td>\n",
       "      <td>NaN</td>\n",
       "      <td>NaN</td>\n",
       "      <td>NaN</td>\n",
       "      <td>NaN</td>\n",
       "    </tr>\n",
       "    <tr>\n",
       "      <th>mean</th>\n",
       "      <td>8690.0000</td>\n",
       "      <td>NaN</td>\n",
       "      <td>2.501640</td>\n",
       "      <td>0.502561</td>\n",
       "      <td>6.537775</td>\n",
       "      <td>11.546752</td>\n",
       "      <td>0.028770</td>\n",
       "      <td>3.003683</td>\n",
       "      <td>0.682721</td>\n",
       "      <td>1.425283</td>\n",
       "      <td>0.496987</td>\n",
       "      <td>0.475775</td>\n",
       "      <td>0.627229</td>\n",
       "      <td>0.190098</td>\n",
       "      <td>35.676218</td>\n",
       "      <td>153.786869</td>\n",
       "      <td>189.463088</td>\n",
       "    </tr>\n",
       "    <tr>\n",
       "      <th>std</th>\n",
       "      <td>5017.0295</td>\n",
       "      <td>NaN</td>\n",
       "      <td>1.106918</td>\n",
       "      <td>0.500008</td>\n",
       "      <td>3.438776</td>\n",
       "      <td>6.914405</td>\n",
       "      <td>0.167165</td>\n",
       "      <td>2.005771</td>\n",
       "      <td>0.465431</td>\n",
       "      <td>0.639357</td>\n",
       "      <td>0.192556</td>\n",
       "      <td>0.171850</td>\n",
       "      <td>0.192930</td>\n",
       "      <td>0.122340</td>\n",
       "      <td>49.305030</td>\n",
       "      <td>151.357286</td>\n",
       "      <td>181.387599</td>\n",
       "    </tr>\n",
       "    <tr>\n",
       "      <th>min</th>\n",
       "      <td>1.0000</td>\n",
       "      <td>NaN</td>\n",
       "      <td>1.000000</td>\n",
       "      <td>0.000000</td>\n",
       "      <td>1.000000</td>\n",
       "      <td>0.000000</td>\n",
       "      <td>0.000000</td>\n",
       "      <td>0.000000</td>\n",
       "      <td>0.000000</td>\n",
       "      <td>1.000000</td>\n",
       "      <td>0.020000</td>\n",
       "      <td>0.000000</td>\n",
       "      <td>0.000000</td>\n",
       "      <td>0.000000</td>\n",
       "      <td>0.000000</td>\n",
       "      <td>0.000000</td>\n",
       "      <td>1.000000</td>\n",
       "    </tr>\n",
       "    <tr>\n",
       "      <th>25%</th>\n",
       "      <td>4345.5000</td>\n",
       "      <td>NaN</td>\n",
       "      <td>2.000000</td>\n",
       "      <td>0.000000</td>\n",
       "      <td>4.000000</td>\n",
       "      <td>6.000000</td>\n",
       "      <td>0.000000</td>\n",
       "      <td>1.000000</td>\n",
       "      <td>0.000000</td>\n",
       "      <td>1.000000</td>\n",
       "      <td>0.340000</td>\n",
       "      <td>0.333300</td>\n",
       "      <td>0.480000</td>\n",
       "      <td>0.104500</td>\n",
       "      <td>4.000000</td>\n",
       "      <td>34.000000</td>\n",
       "      <td>40.000000</td>\n",
       "    </tr>\n",
       "    <tr>\n",
       "      <th>50%</th>\n",
       "      <td>8690.0000</td>\n",
       "      <td>NaN</td>\n",
       "      <td>3.000000</td>\n",
       "      <td>1.000000</td>\n",
       "      <td>7.000000</td>\n",
       "      <td>12.000000</td>\n",
       "      <td>0.000000</td>\n",
       "      <td>3.000000</td>\n",
       "      <td>1.000000</td>\n",
       "      <td>1.000000</td>\n",
       "      <td>0.500000</td>\n",
       "      <td>0.484800</td>\n",
       "      <td>0.630000</td>\n",
       "      <td>0.194000</td>\n",
       "      <td>17.000000</td>\n",
       "      <td>115.000000</td>\n",
       "      <td>142.000000</td>\n",
       "    </tr>\n",
       "    <tr>\n",
       "      <th>75%</th>\n",
       "      <td>13034.5000</td>\n",
       "      <td>NaN</td>\n",
       "      <td>3.000000</td>\n",
       "      <td>1.000000</td>\n",
       "      <td>10.000000</td>\n",
       "      <td>18.000000</td>\n",
       "      <td>0.000000</td>\n",
       "      <td>5.000000</td>\n",
       "      <td>1.000000</td>\n",
       "      <td>2.000000</td>\n",
       "      <td>0.660000</td>\n",
       "      <td>0.621200</td>\n",
       "      <td>0.780000</td>\n",
       "      <td>0.253700</td>\n",
       "      <td>48.000000</td>\n",
       "      <td>220.000000</td>\n",
       "      <td>281.000000</td>\n",
       "    </tr>\n",
       "    <tr>\n",
       "      <th>max</th>\n",
       "      <td>17379.0000</td>\n",
       "      <td>NaN</td>\n",
       "      <td>4.000000</td>\n",
       "      <td>1.000000</td>\n",
       "      <td>12.000000</td>\n",
       "      <td>23.000000</td>\n",
       "      <td>1.000000</td>\n",
       "      <td>6.000000</td>\n",
       "      <td>1.000000</td>\n",
       "      <td>4.000000</td>\n",
       "      <td>1.000000</td>\n",
       "      <td>1.000000</td>\n",
       "      <td>1.000000</td>\n",
       "      <td>0.850700</td>\n",
       "      <td>367.000000</td>\n",
       "      <td>886.000000</td>\n",
       "      <td>977.000000</td>\n",
       "    </tr>\n",
       "  </tbody>\n",
       "</table>\n",
       "</div>"
      ],
      "text/plain": [
       "           instant      dteday        season            yr          mnth  \\\n",
       "count   17379.0000       17379  17379.000000  17379.000000  17379.000000   \n",
       "unique         NaN         731           NaN           NaN           NaN   \n",
       "top            NaN  2011-01-01           NaN           NaN           NaN   \n",
       "freq           NaN          24           NaN           NaN           NaN   \n",
       "mean     8690.0000         NaN      2.501640      0.502561      6.537775   \n",
       "std      5017.0295         NaN      1.106918      0.500008      3.438776   \n",
       "min         1.0000         NaN      1.000000      0.000000      1.000000   \n",
       "25%      4345.5000         NaN      2.000000      0.000000      4.000000   \n",
       "50%      8690.0000         NaN      3.000000      1.000000      7.000000   \n",
       "75%     13034.5000         NaN      3.000000      1.000000     10.000000   \n",
       "max     17379.0000         NaN      4.000000      1.000000     12.000000   \n",
       "\n",
       "                  hr       holiday       weekday    workingday    weathersit  \\\n",
       "count   17379.000000  17379.000000  17379.000000  17379.000000  17379.000000   \n",
       "unique           NaN           NaN           NaN           NaN           NaN   \n",
       "top              NaN           NaN           NaN           NaN           NaN   \n",
       "freq             NaN           NaN           NaN           NaN           NaN   \n",
       "mean       11.546752      0.028770      3.003683      0.682721      1.425283   \n",
       "std         6.914405      0.167165      2.005771      0.465431      0.639357   \n",
       "min         0.000000      0.000000      0.000000      0.000000      1.000000   \n",
       "25%         6.000000      0.000000      1.000000      0.000000      1.000000   \n",
       "50%        12.000000      0.000000      3.000000      1.000000      1.000000   \n",
       "75%        18.000000      0.000000      5.000000      1.000000      2.000000   \n",
       "max        23.000000      1.000000      6.000000      1.000000      4.000000   \n",
       "\n",
       "                temp         atemp           hum     windspeed        casual  \\\n",
       "count   17379.000000  17379.000000  17379.000000  17379.000000  17379.000000   \n",
       "unique           NaN           NaN           NaN           NaN           NaN   \n",
       "top              NaN           NaN           NaN           NaN           NaN   \n",
       "freq             NaN           NaN           NaN           NaN           NaN   \n",
       "mean        0.496987      0.475775      0.627229      0.190098     35.676218   \n",
       "std         0.192556      0.171850      0.192930      0.122340     49.305030   \n",
       "min         0.020000      0.000000      0.000000      0.000000      0.000000   \n",
       "25%         0.340000      0.333300      0.480000      0.104500      4.000000   \n",
       "50%         0.500000      0.484800      0.630000      0.194000     17.000000   \n",
       "75%         0.660000      0.621200      0.780000      0.253700     48.000000   \n",
       "max         1.000000      1.000000      1.000000      0.850700    367.000000   \n",
       "\n",
       "          registered           cnt  \n",
       "count   17379.000000  17379.000000  \n",
       "unique           NaN           NaN  \n",
       "top              NaN           NaN  \n",
       "freq             NaN           NaN  \n",
       "mean      153.786869    189.463088  \n",
       "std       151.357286    181.387599  \n",
       "min         0.000000      1.000000  \n",
       "25%        34.000000     40.000000  \n",
       "50%       115.000000    142.000000  \n",
       "75%       220.000000    281.000000  \n",
       "max       886.000000    977.000000  "
      ]
     },
     "execution_count": 11,
     "metadata": {},
     "output_type": "execute_result"
    }
   ],
   "source": [
    "hour_df.describe(include='all')"
   ]
  },
  {
   "attachments": {},
   "cell_type": "markdown",
   "metadata": {
    "id": "IySghbmdn_G0"
   },
   "source": [
    "Berdasarkan informasi di atas kita dapat melihat bahwa:\n",
    "- `season` memiliki rentang nilai 1 sampai 4, sesuai dengan jumlah musim dalam setahun\n",
    "- `yr` memiliki nilai 0 atau 1\n",
    "- `mnth` memiliki rentang nilai 1-12, sesuai dengan jumlah bulan dalam setahun\n",
    "- `holiday` memiliki nilai 0 atau 1\n",
    "- `weekday` memiliki rentang nilai 0-6, sesuai dengan jumlah hari dalam seminggu\n",
    "- `workingday` memiliki nilai 0 atau 1\n",
    "- `weathersit` memiliki nilai antara 1-4 ,sesuai deskripsi dari file Readme\n",
    "- `temp` memiliki rentang nilai 0 - 1\n",
    "- `atemp` memiliki rentang nilai 0 - 1\n",
    "- `hum` memiliki rentang nilai 0 - 1\n",
    "- `windspeed` memiliki rentang nilai 0 - 1\n",
    "\n",
    "Jadi, semua kolom yg saya sebutkan sudah terisi dengan benar (tidak terdapat data yang tidak akurat). Sesuai dengan deskripsi yang diberikan di file Readme."
   ]
  },
  {
   "attachments": {},
   "cell_type": "markdown",
   "metadata": {},
   "source": [
    "Namun pada `hour_df` terdapat kejanggalan, karena seharusnya nilai `mean` pada kolom `hr` atau jam pas 11.5 (hanya ada angka 5 dibelakang koma)."
   ]
  },
  {
   "cell_type": "code",
   "execution_count": 12,
   "metadata": {},
   "outputs": [
    {
     "data": {
      "text/plain": [
       "11.5"
      ]
     },
     "execution_count": 12,
     "metadata": {},
     "output_type": "execute_result"
    }
   ],
   "source": [
    "np.arange(24).mean()"
   ]
  },
  {
   "cell_type": "code",
   "execution_count": 71,
   "metadata": {
    "ExecuteTime": {
     "end_time": "2023-07-05T04:23:26.105259800Z",
     "start_time": "2023-07-05T04:23:26.028523300Z"
    }
   },
   "outputs": [
    {
     "data": {
      "text/plain": "         dteday  instant\n667  2012-10-29        1\n26   2011-01-27        8\n668  2012-10-30       11\n17   2011-01-18       12\n25   2011-01-26       16\n..          ...      ...\n723  2012-12-24       23\n69   2011-03-11       23\n71   2011-03-13       23\n34   2011-02-04       23\n724  2012-12-25       23\n\n[76 rows x 2 columns]",
      "text/html": "<div>\n<style scoped>\n    .dataframe tbody tr th:only-of-type {\n        vertical-align: middle;\n    }\n\n    .dataframe tbody tr th {\n        vertical-align: top;\n    }\n\n    .dataframe thead th {\n        text-align: right;\n    }\n</style>\n<table border=\"1\" class=\"dataframe\">\n  <thead>\n    <tr style=\"text-align: right;\">\n      <th></th>\n      <th>dteday</th>\n      <th>instant</th>\n    </tr>\n  </thead>\n  <tbody>\n    <tr>\n      <th>667</th>\n      <td>2012-10-29</td>\n      <td>1</td>\n    </tr>\n    <tr>\n      <th>26</th>\n      <td>2011-01-27</td>\n      <td>8</td>\n    </tr>\n    <tr>\n      <th>668</th>\n      <td>2012-10-30</td>\n      <td>11</td>\n    </tr>\n    <tr>\n      <th>17</th>\n      <td>2011-01-18</td>\n      <td>12</td>\n    </tr>\n    <tr>\n      <th>25</th>\n      <td>2011-01-26</td>\n      <td>16</td>\n    </tr>\n    <tr>\n      <th>...</th>\n      <td>...</td>\n      <td>...</td>\n    </tr>\n    <tr>\n      <th>723</th>\n      <td>2012-12-24</td>\n      <td>23</td>\n    </tr>\n    <tr>\n      <th>69</th>\n      <td>2011-03-11</td>\n      <td>23</td>\n    </tr>\n    <tr>\n      <th>71</th>\n      <td>2011-03-13</td>\n      <td>23</td>\n    </tr>\n    <tr>\n      <th>34</th>\n      <td>2011-02-04</td>\n      <td>23</td>\n    </tr>\n    <tr>\n      <th>724</th>\n      <td>2012-12-25</td>\n      <td>23</td>\n    </tr>\n  </tbody>\n</table>\n<p>76 rows × 2 columns</p>\n</div>"
     },
     "execution_count": 71,
     "metadata": {},
     "output_type": "execute_result"
    }
   ],
   "source": [
    "by_date_instat = hour_df.groupby(by=\"dteday\").agg({'instant':'count'}).reset_index()\n",
    "by_date_instat[by_date_instat['instant'] < 24].sort_values('instant')"
   ]
  },
  {
   "attachments": {},
   "cell_type": "markdown",
   "metadata": {},
   "source": [
    "ohh tidak... rupanya data pada `hour_df` ada yang tidak lengkap untuk 24 jam pada beberapa tanggal. Untuk mengatasi hal ini pertama saya akan menggabungkan kolom `dteday` dan `hr` menjadi kolom `datetime`"
   ]
  },
  {
   "cell_type": "code",
   "execution_count": 28,
   "metadata": {
    "ExecuteTime": {
     "end_time": "2023-07-05T14:37:22.811989500Z",
     "start_time": "2023-07-05T14:37:22.711110300Z"
    }
   },
   "outputs": [
    {
     "data": {
      "text/plain": "   instant      dteday  season  yr  mnth  hr  holiday  weekday  workingday  \\\n0        1  2011-01-01       1   0     1   0        0        6           0   \n1        2  2011-01-01       1   0     1   1        0        6           0   \n2        3  2011-01-01       1   0     1   2        0        6           0   \n3        4  2011-01-01       1   0     1   3        0        6           0   \n4        5  2011-01-01       1   0     1   4        0        6           0   \n\n   weathersit  temp   atemp   hum  windspeed  casual  registered  cnt  \\\n0           1  0.24  0.2879  0.81        0.0       3          13   16   \n1           1  0.22  0.2727  0.80        0.0       8          32   40   \n2           1  0.22  0.2727  0.80        0.0       5          27   32   \n3           1  0.24  0.2879  0.75        0.0       3          10   13   \n4           1  0.24  0.2879  0.75        0.0       0           1    1   \n\n             datetime  \n0 2011-01-01 00:00:00  \n1 2011-01-01 01:00:00  \n2 2011-01-01 02:00:00  \n3 2011-01-01 03:00:00  \n4 2011-01-01 04:00:00  ",
      "text/html": "<div>\n<style scoped>\n    .dataframe tbody tr th:only-of-type {\n        vertical-align: middle;\n    }\n\n    .dataframe tbody tr th {\n        vertical-align: top;\n    }\n\n    .dataframe thead th {\n        text-align: right;\n    }\n</style>\n<table border=\"1\" class=\"dataframe\">\n  <thead>\n    <tr style=\"text-align: right;\">\n      <th></th>\n      <th>instant</th>\n      <th>dteday</th>\n      <th>season</th>\n      <th>yr</th>\n      <th>mnth</th>\n      <th>hr</th>\n      <th>holiday</th>\n      <th>weekday</th>\n      <th>workingday</th>\n      <th>weathersit</th>\n      <th>temp</th>\n      <th>atemp</th>\n      <th>hum</th>\n      <th>windspeed</th>\n      <th>casual</th>\n      <th>registered</th>\n      <th>cnt</th>\n      <th>datetime</th>\n    </tr>\n  </thead>\n  <tbody>\n    <tr>\n      <th>0</th>\n      <td>1</td>\n      <td>2011-01-01</td>\n      <td>1</td>\n      <td>0</td>\n      <td>1</td>\n      <td>0</td>\n      <td>0</td>\n      <td>6</td>\n      <td>0</td>\n      <td>1</td>\n      <td>0.24</td>\n      <td>0.2879</td>\n      <td>0.81</td>\n      <td>0.0</td>\n      <td>3</td>\n      <td>13</td>\n      <td>16</td>\n      <td>2011-01-01 00:00:00</td>\n    </tr>\n    <tr>\n      <th>1</th>\n      <td>2</td>\n      <td>2011-01-01</td>\n      <td>1</td>\n      <td>0</td>\n      <td>1</td>\n      <td>1</td>\n      <td>0</td>\n      <td>6</td>\n      <td>0</td>\n      <td>1</td>\n      <td>0.22</td>\n      <td>0.2727</td>\n      <td>0.80</td>\n      <td>0.0</td>\n      <td>8</td>\n      <td>32</td>\n      <td>40</td>\n      <td>2011-01-01 01:00:00</td>\n    </tr>\n    <tr>\n      <th>2</th>\n      <td>3</td>\n      <td>2011-01-01</td>\n      <td>1</td>\n      <td>0</td>\n      <td>1</td>\n      <td>2</td>\n      <td>0</td>\n      <td>6</td>\n      <td>0</td>\n      <td>1</td>\n      <td>0.22</td>\n      <td>0.2727</td>\n      <td>0.80</td>\n      <td>0.0</td>\n      <td>5</td>\n      <td>27</td>\n      <td>32</td>\n      <td>2011-01-01 02:00:00</td>\n    </tr>\n    <tr>\n      <th>3</th>\n      <td>4</td>\n      <td>2011-01-01</td>\n      <td>1</td>\n      <td>0</td>\n      <td>1</td>\n      <td>3</td>\n      <td>0</td>\n      <td>6</td>\n      <td>0</td>\n      <td>1</td>\n      <td>0.24</td>\n      <td>0.2879</td>\n      <td>0.75</td>\n      <td>0.0</td>\n      <td>3</td>\n      <td>10</td>\n      <td>13</td>\n      <td>2011-01-01 03:00:00</td>\n    </tr>\n    <tr>\n      <th>4</th>\n      <td>5</td>\n      <td>2011-01-01</td>\n      <td>1</td>\n      <td>0</td>\n      <td>1</td>\n      <td>4</td>\n      <td>0</td>\n      <td>6</td>\n      <td>0</td>\n      <td>1</td>\n      <td>0.24</td>\n      <td>0.2879</td>\n      <td>0.75</td>\n      <td>0.0</td>\n      <td>0</td>\n      <td>1</td>\n      <td>1</td>\n      <td>2011-01-01 04:00:00</td>\n    </tr>\n  </tbody>\n</table>\n</div>"
     },
     "execution_count": 28,
     "metadata": {},
     "output_type": "execute_result"
    }
   ],
   "source": [
    "hour_df['datetime'] = pd.to_datetime(hour_df.dteday) + pd.to_timedelta(hour_df['hr'], unit='h')\n",
    "hour_df.head()"
   ]
  },
  {
   "cell_type": "code",
   "execution_count": 29,
   "outputs": [],
   "source": [
    "# menambahkan baris-baris yang missing\n",
    "min_datetime = hour_df.datetime.min()\n",
    "max_datetime = hour_df.datetime.max()\n",
    "all_datetime = pd.date_range(min_datetime, max_datetime, freq='H')\n",
    "datetime_df = pd.DataFrame({'datetime':all_datetime})\n",
    "new_hour_df = pd.merge(datetime_df, hour_df, on='datetime', how='left')\n",
    "new_hour_df.sort_index(inplace=True)\n",
    "# mengatasi null pada kolom yang berkaitan dengan waktu\n",
    "fill_hr = lambda row: row['datetime'].hour if pd.isnull(row['hr']) else row['hr']\n",
    "fill_dteday = lambda row: row['datetime'].strftime('%Y-%m-%d') if pd.isnull(row['dteday']) else row['dteday']\n",
    "fill_month = lambda row: row['datetime'].month if pd.isnull(row['mnth']) else row['mnth']\n",
    "fill_yr = lambda row: row['datetime'].year if pd.isnull(row['yr']) else row['yr']\n",
    "new_hour_df.hr = new_hour_df.apply(fill_hr, axis=1)\n",
    "new_hour_df.dteday = new_hour_df.apply(fill_dteday, axis=1)\n",
    "new_hour_df.mnth = new_hour_df.apply(fill_month, axis=1)\n",
    "new_hour_df.yr = new_hour_df.apply(fill_yr, axis=1)\n",
    "\n",
    "new_hour_df.set_index('datetime',inplace=True)"
   ],
   "metadata": {
    "collapsed": false,
    "ExecuteTime": {
     "end_time": "2023-07-05T14:37:28.016690700Z",
     "start_time": "2023-07-05T14:37:24.510106200Z"
    }
   }
  },
  {
   "cell_type": "markdown",
   "source": [
    "selanjutnya mengatasi null value pada kolom yang berkaitan pada hari tersebut"
   ],
   "metadata": {
    "collapsed": false
   }
  },
  {
   "cell_type": "code",
   "execution_count": 30,
   "outputs": [],
   "source": [
    "new_hour_df.season.interpolate('pad', inplace=True)\n",
    "new_hour_df.holiday.interpolate('pad', inplace=True)\n",
    "new_hour_df.weekday.interpolate('pad', inplace=True)\n",
    "new_hour_df.workingday.interpolate('pad', inplace=True)\n",
    "new_hour_df.weathersit.interpolate('pad', inplace=True)"
   ],
   "metadata": {
    "collapsed": false,
    "ExecuteTime": {
     "end_time": "2023-07-05T14:37:28.025728800Z",
     "start_time": "2023-07-05T14:37:27.982896400Z"
    }
   }
  },
  {
   "cell_type": "markdown",
   "source": [
    "mengiatasi null value pada sisa kolom kecuali 'instant'"
   ],
   "metadata": {
    "collapsed": false
   }
  },
  {
   "cell_type": "code",
   "execution_count": 31,
   "outputs": [],
   "source": [
    "new_hour_df.temp.interpolate('time', direction='forward', inplace=True)\n",
    "new_hour_df.atemp.interpolate('time', direction='forward', inplace=True)\n",
    "new_hour_df.hum.interpolate('time', direction='forward', inplace=True)\n",
    "new_hour_df.windspeed.interpolate('time', direction='forward', inplace=True)\n",
    "new_hour_df.casual.interpolate('time', direction='forward', inplace=True)\n",
    "new_hour_df.registered.interpolate('time', direction='forward', inplace=True)\n",
    "new_hour_df.cnt.interpolate('time', direction='forward', inplace=True)"
   ],
   "metadata": {
    "collapsed": false,
    "ExecuteTime": {
     "end_time": "2023-07-05T14:37:30.875774600Z",
     "start_time": "2023-07-05T14:37:30.810764800Z"
    }
   }
  },
  {
   "cell_type": "code",
   "execution_count": 32,
   "outputs": [
    {
     "data": {
      "text/plain": "instant       165\ndteday          0\nseason          0\nyr              0\nmnth            0\nhr              0\nholiday         0\nweekday         0\nworkingday      0\nweathersit      0\ntemp            0\natemp           0\nhum             0\nwindspeed       0\ncasual          0\nregistered      0\ncnt             0\ndtype: int64"
     },
     "execution_count": 32,
     "metadata": {},
     "output_type": "execute_result"
    }
   ],
   "source": [
    "new_hour_df.isna().sum()"
   ],
   "metadata": {
    "collapsed": false,
    "ExecuteTime": {
     "end_time": "2023-07-05T14:37:38.204064600Z",
     "start_time": "2023-07-05T14:37:38.095678700Z"
    }
   }
  },
  {
   "cell_type": "code",
   "execution_count": 33,
   "outputs": [
    {
     "data": {
      "text/plain": "          instant        season            yr          mnth            hr  \\\ncount  17379.0000  17544.000000  17544.000000  17544.000000  17544.000000   \nmean    8690.0000      2.496580     19.413988      6.519836     11.500000   \nstd     5017.0295      1.110079    194.092404      3.449649      6.922384   \nmin        1.0000      1.000000      0.000000      1.000000      0.000000   \n25%     4345.5000      2.000000      0.000000      4.000000      5.750000   \n50%     8690.0000      3.000000      1.000000      7.000000     11.500000   \n75%    13034.5000      3.000000      1.000000     10.000000     17.250000   \nmax    17379.0000      4.000000   2012.000000     12.000000     23.000000   \n\n            holiday       weekday    workingday    weathersit          temp  \\\ncount  17544.000000  17544.000000  17544.000000  17544.000000  17544.000000   \nmean       0.029754      2.996979      0.682969      1.434223      0.495044   \nstd        0.169912      2.004567      0.465333      0.648339      0.193192   \nmin        0.000000      0.000000      0.000000      1.000000      0.020000   \n25%        0.000000      1.000000      0.000000      1.000000      0.340000   \n50%        0.000000      3.000000      1.000000      1.000000      0.500000   \n75%        0.000000      5.000000      1.000000      2.000000      0.660000   \nmax        1.000000      6.000000      1.000000      4.000000      1.000000   \n\n              atemp           hum     windspeed        casual    registered  \\\ncount  17544.000000  17544.000000  17544.000000  17544.000000  17544.000000   \nmean       0.473957      0.628428      0.190965     35.358556    152.527930   \nstd        0.172519      0.193041      0.122900     49.181593    151.218524   \nmin        0.000000      0.000000      0.000000      0.000000      0.000000   \n25%        0.333300      0.480000      0.104500      4.000000     33.000000   \n50%        0.484800      0.630000      0.194000     16.000000    114.000000   \n75%        0.621200      0.790000      0.253700     48.000000    219.000000   \nmax        1.000000      1.000000      0.850700    367.000000    886.000000   \n\n                cnt  \ncount  17544.000000  \nmean     187.886485  \nstd      181.278201  \nmin        1.000000  \n25%       38.000000  \n50%      140.000000  \n75%      279.000000  \nmax      977.000000  ",
      "text/html": "<div>\n<style scoped>\n    .dataframe tbody tr th:only-of-type {\n        vertical-align: middle;\n    }\n\n    .dataframe tbody tr th {\n        vertical-align: top;\n    }\n\n    .dataframe thead th {\n        text-align: right;\n    }\n</style>\n<table border=\"1\" class=\"dataframe\">\n  <thead>\n    <tr style=\"text-align: right;\">\n      <th></th>\n      <th>instant</th>\n      <th>season</th>\n      <th>yr</th>\n      <th>mnth</th>\n      <th>hr</th>\n      <th>holiday</th>\n      <th>weekday</th>\n      <th>workingday</th>\n      <th>weathersit</th>\n      <th>temp</th>\n      <th>atemp</th>\n      <th>hum</th>\n      <th>windspeed</th>\n      <th>casual</th>\n      <th>registered</th>\n      <th>cnt</th>\n    </tr>\n  </thead>\n  <tbody>\n    <tr>\n      <th>count</th>\n      <td>17379.0000</td>\n      <td>17544.000000</td>\n      <td>17544.000000</td>\n      <td>17544.000000</td>\n      <td>17544.000000</td>\n      <td>17544.000000</td>\n      <td>17544.000000</td>\n      <td>17544.000000</td>\n      <td>17544.000000</td>\n      <td>17544.000000</td>\n      <td>17544.000000</td>\n      <td>17544.000000</td>\n      <td>17544.000000</td>\n      <td>17544.000000</td>\n      <td>17544.000000</td>\n      <td>17544.000000</td>\n    </tr>\n    <tr>\n      <th>mean</th>\n      <td>8690.0000</td>\n      <td>2.496580</td>\n      <td>19.413988</td>\n      <td>6.519836</td>\n      <td>11.500000</td>\n      <td>0.029754</td>\n      <td>2.996979</td>\n      <td>0.682969</td>\n      <td>1.434223</td>\n      <td>0.495044</td>\n      <td>0.473957</td>\n      <td>0.628428</td>\n      <td>0.190965</td>\n      <td>35.358556</td>\n      <td>152.527930</td>\n      <td>187.886485</td>\n    </tr>\n    <tr>\n      <th>std</th>\n      <td>5017.0295</td>\n      <td>1.110079</td>\n      <td>194.092404</td>\n      <td>3.449649</td>\n      <td>6.922384</td>\n      <td>0.169912</td>\n      <td>2.004567</td>\n      <td>0.465333</td>\n      <td>0.648339</td>\n      <td>0.193192</td>\n      <td>0.172519</td>\n      <td>0.193041</td>\n      <td>0.122900</td>\n      <td>49.181593</td>\n      <td>151.218524</td>\n      <td>181.278201</td>\n    </tr>\n    <tr>\n      <th>min</th>\n      <td>1.0000</td>\n      <td>1.000000</td>\n      <td>0.000000</td>\n      <td>1.000000</td>\n      <td>0.000000</td>\n      <td>0.000000</td>\n      <td>0.000000</td>\n      <td>0.000000</td>\n      <td>1.000000</td>\n      <td>0.020000</td>\n      <td>0.000000</td>\n      <td>0.000000</td>\n      <td>0.000000</td>\n      <td>0.000000</td>\n      <td>0.000000</td>\n      <td>1.000000</td>\n    </tr>\n    <tr>\n      <th>25%</th>\n      <td>4345.5000</td>\n      <td>2.000000</td>\n      <td>0.000000</td>\n      <td>4.000000</td>\n      <td>5.750000</td>\n      <td>0.000000</td>\n      <td>1.000000</td>\n      <td>0.000000</td>\n      <td>1.000000</td>\n      <td>0.340000</td>\n      <td>0.333300</td>\n      <td>0.480000</td>\n      <td>0.104500</td>\n      <td>4.000000</td>\n      <td>33.000000</td>\n      <td>38.000000</td>\n    </tr>\n    <tr>\n      <th>50%</th>\n      <td>8690.0000</td>\n      <td>3.000000</td>\n      <td>1.000000</td>\n      <td>7.000000</td>\n      <td>11.500000</td>\n      <td>0.000000</td>\n      <td>3.000000</td>\n      <td>1.000000</td>\n      <td>1.000000</td>\n      <td>0.500000</td>\n      <td>0.484800</td>\n      <td>0.630000</td>\n      <td>0.194000</td>\n      <td>16.000000</td>\n      <td>114.000000</td>\n      <td>140.000000</td>\n    </tr>\n    <tr>\n      <th>75%</th>\n      <td>13034.5000</td>\n      <td>3.000000</td>\n      <td>1.000000</td>\n      <td>10.000000</td>\n      <td>17.250000</td>\n      <td>0.000000</td>\n      <td>5.000000</td>\n      <td>1.000000</td>\n      <td>2.000000</td>\n      <td>0.660000</td>\n      <td>0.621200</td>\n      <td>0.790000</td>\n      <td>0.253700</td>\n      <td>48.000000</td>\n      <td>219.000000</td>\n      <td>279.000000</td>\n    </tr>\n    <tr>\n      <th>max</th>\n      <td>17379.0000</td>\n      <td>4.000000</td>\n      <td>2012.000000</td>\n      <td>12.000000</td>\n      <td>23.000000</td>\n      <td>1.000000</td>\n      <td>6.000000</td>\n      <td>1.000000</td>\n      <td>4.000000</td>\n      <td>1.000000</td>\n      <td>1.000000</td>\n      <td>1.000000</td>\n      <td>0.850700</td>\n      <td>367.000000</td>\n      <td>886.000000</td>\n      <td>977.000000</td>\n    </tr>\n  </tbody>\n</table>\n</div>"
     },
     "execution_count": 33,
     "metadata": {},
     "output_type": "execute_result"
    }
   ],
   "source": [
    "new_hour_df.reset_index(inplace=True)\n",
    "new_hour_df.drop('datetime', axis=1, inplace=True)\n",
    "new_hour_df.describe()"
   ],
   "metadata": {
    "collapsed": false,
    "ExecuteTime": {
     "end_time": "2023-07-05T14:37:42.088710800Z",
     "start_time": "2023-07-05T14:37:41.916359300Z"
    }
   }
  },
  {
   "cell_type": "code",
   "execution_count": 34,
   "outputs": [
    {
     "data": {
      "text/plain": "          instant        season            yr          mnth            hr  \\\ncount  17379.0000  17379.000000  17379.000000  17379.000000  17379.000000   \nmean    8690.0000      2.501640      0.502561      6.537775     11.546752   \nstd     5017.0295      1.106918      0.500008      3.438776      6.914405   \nmin        1.0000      1.000000      0.000000      1.000000      0.000000   \n25%     4345.5000      2.000000      0.000000      4.000000      6.000000   \n50%     8690.0000      3.000000      1.000000      7.000000     12.000000   \n75%    13034.5000      3.000000      1.000000     10.000000     18.000000   \nmax    17379.0000      4.000000      1.000000     12.000000     23.000000   \n\n            holiday       weekday    workingday    weathersit          temp  \\\ncount  17379.000000  17379.000000  17379.000000  17379.000000  17379.000000   \nmean       0.028770      3.003683      0.682721      1.425283      0.496987   \nstd        0.167165      2.005771      0.465431      0.639357      0.192556   \nmin        0.000000      0.000000      0.000000      1.000000      0.020000   \n25%        0.000000      1.000000      0.000000      1.000000      0.340000   \n50%        0.000000      3.000000      1.000000      1.000000      0.500000   \n75%        0.000000      5.000000      1.000000      2.000000      0.660000   \nmax        1.000000      6.000000      1.000000      4.000000      1.000000   \n\n              atemp           hum     windspeed        casual    registered  \\\ncount  17379.000000  17379.000000  17379.000000  17379.000000  17379.000000   \nmean       0.475775      0.627229      0.190098     35.676218    153.786869   \nstd        0.171850      0.192930      0.122340     49.305030    151.357286   \nmin        0.000000      0.000000      0.000000      0.000000      0.000000   \n25%        0.333300      0.480000      0.104500      4.000000     34.000000   \n50%        0.484800      0.630000      0.194000     17.000000    115.000000   \n75%        0.621200      0.780000      0.253700     48.000000    220.000000   \nmax        1.000000      1.000000      0.850700    367.000000    886.000000   \n\n                cnt  \ncount  17379.000000  \nmean     189.463088  \nstd      181.387599  \nmin        1.000000  \n25%       40.000000  \n50%      142.000000  \n75%      281.000000  \nmax      977.000000  ",
      "text/html": "<div>\n<style scoped>\n    .dataframe tbody tr th:only-of-type {\n        vertical-align: middle;\n    }\n\n    .dataframe tbody tr th {\n        vertical-align: top;\n    }\n\n    .dataframe thead th {\n        text-align: right;\n    }\n</style>\n<table border=\"1\" class=\"dataframe\">\n  <thead>\n    <tr style=\"text-align: right;\">\n      <th></th>\n      <th>instant</th>\n      <th>season</th>\n      <th>yr</th>\n      <th>mnth</th>\n      <th>hr</th>\n      <th>holiday</th>\n      <th>weekday</th>\n      <th>workingday</th>\n      <th>weathersit</th>\n      <th>temp</th>\n      <th>atemp</th>\n      <th>hum</th>\n      <th>windspeed</th>\n      <th>casual</th>\n      <th>registered</th>\n      <th>cnt</th>\n    </tr>\n  </thead>\n  <tbody>\n    <tr>\n      <th>count</th>\n      <td>17379.0000</td>\n      <td>17379.000000</td>\n      <td>17379.000000</td>\n      <td>17379.000000</td>\n      <td>17379.000000</td>\n      <td>17379.000000</td>\n      <td>17379.000000</td>\n      <td>17379.000000</td>\n      <td>17379.000000</td>\n      <td>17379.000000</td>\n      <td>17379.000000</td>\n      <td>17379.000000</td>\n      <td>17379.000000</td>\n      <td>17379.000000</td>\n      <td>17379.000000</td>\n      <td>17379.000000</td>\n    </tr>\n    <tr>\n      <th>mean</th>\n      <td>8690.0000</td>\n      <td>2.501640</td>\n      <td>0.502561</td>\n      <td>6.537775</td>\n      <td>11.546752</td>\n      <td>0.028770</td>\n      <td>3.003683</td>\n      <td>0.682721</td>\n      <td>1.425283</td>\n      <td>0.496987</td>\n      <td>0.475775</td>\n      <td>0.627229</td>\n      <td>0.190098</td>\n      <td>35.676218</td>\n      <td>153.786869</td>\n      <td>189.463088</td>\n    </tr>\n    <tr>\n      <th>std</th>\n      <td>5017.0295</td>\n      <td>1.106918</td>\n      <td>0.500008</td>\n      <td>3.438776</td>\n      <td>6.914405</td>\n      <td>0.167165</td>\n      <td>2.005771</td>\n      <td>0.465431</td>\n      <td>0.639357</td>\n      <td>0.192556</td>\n      <td>0.171850</td>\n      <td>0.192930</td>\n      <td>0.122340</td>\n      <td>49.305030</td>\n      <td>151.357286</td>\n      <td>181.387599</td>\n    </tr>\n    <tr>\n      <th>min</th>\n      <td>1.0000</td>\n      <td>1.000000</td>\n      <td>0.000000</td>\n      <td>1.000000</td>\n      <td>0.000000</td>\n      <td>0.000000</td>\n      <td>0.000000</td>\n      <td>0.000000</td>\n      <td>1.000000</td>\n      <td>0.020000</td>\n      <td>0.000000</td>\n      <td>0.000000</td>\n      <td>0.000000</td>\n      <td>0.000000</td>\n      <td>0.000000</td>\n      <td>1.000000</td>\n    </tr>\n    <tr>\n      <th>25%</th>\n      <td>4345.5000</td>\n      <td>2.000000</td>\n      <td>0.000000</td>\n      <td>4.000000</td>\n      <td>6.000000</td>\n      <td>0.000000</td>\n      <td>1.000000</td>\n      <td>0.000000</td>\n      <td>1.000000</td>\n      <td>0.340000</td>\n      <td>0.333300</td>\n      <td>0.480000</td>\n      <td>0.104500</td>\n      <td>4.000000</td>\n      <td>34.000000</td>\n      <td>40.000000</td>\n    </tr>\n    <tr>\n      <th>50%</th>\n      <td>8690.0000</td>\n      <td>3.000000</td>\n      <td>1.000000</td>\n      <td>7.000000</td>\n      <td>12.000000</td>\n      <td>0.000000</td>\n      <td>3.000000</td>\n      <td>1.000000</td>\n      <td>1.000000</td>\n      <td>0.500000</td>\n      <td>0.484800</td>\n      <td>0.630000</td>\n      <td>0.194000</td>\n      <td>17.000000</td>\n      <td>115.000000</td>\n      <td>142.000000</td>\n    </tr>\n    <tr>\n      <th>75%</th>\n      <td>13034.5000</td>\n      <td>3.000000</td>\n      <td>1.000000</td>\n      <td>10.000000</td>\n      <td>18.000000</td>\n      <td>0.000000</td>\n      <td>5.000000</td>\n      <td>1.000000</td>\n      <td>2.000000</td>\n      <td>0.660000</td>\n      <td>0.621200</td>\n      <td>0.780000</td>\n      <td>0.253700</td>\n      <td>48.000000</td>\n      <td>220.000000</td>\n      <td>281.000000</td>\n    </tr>\n    <tr>\n      <th>max</th>\n      <td>17379.0000</td>\n      <td>4.000000</td>\n      <td>1.000000</td>\n      <td>12.000000</td>\n      <td>23.000000</td>\n      <td>1.000000</td>\n      <td>6.000000</td>\n      <td>1.000000</td>\n      <td>4.000000</td>\n      <td>1.000000</td>\n      <td>1.000000</td>\n      <td>1.000000</td>\n      <td>0.850700</td>\n      <td>367.000000</td>\n      <td>886.000000</td>\n      <td>977.000000</td>\n    </tr>\n  </tbody>\n</table>\n</div>"
     },
     "execution_count": 34,
     "metadata": {},
     "output_type": "execute_result"
    }
   ],
   "source": [
    "hour_df.describe()"
   ],
   "metadata": {
    "collapsed": false,
    "ExecuteTime": {
     "end_time": "2023-07-05T14:37:48.933915900Z",
     "start_time": "2023-07-05T14:37:48.696413800Z"
    }
   }
  },
  {
   "attachments": {},
   "cell_type": "markdown",
   "metadata": {
    "id": "b3BCIGsQdfSH"
   },
   "source": [
    "## Explorasi data"
   ]
  },
  {
   "attachments": {},
   "cell_type": "markdown",
   "metadata": {
    "id": "Pt5RwLKjF9oc"
   },
   "source": [
    "Pertama saya ingin mengetahui korelasi antara setiap parameter dengan banyaknya pengguna sepeda pada suatu hari"
   ]
  },
  {
   "cell_type": "code",
   "execution_count": 12,
   "metadata": {
    "colab": {
     "base_uri": "https://localhost:8080/"
    },
    "id": "fhawN_AoEF5F",
    "outputId": "f00915db-fbb6-43c1-c969-908a272a717c"
   },
   "outputs": [
    {
     "data": {
      "text/plain": [
       "mnth          0.279977\n",
       "holiday      -0.068348\n",
       "weekday       0.067443\n",
       "workingday    0.061156\n",
       "weathersit   -0.297391\n",
       "temp          0.627494\n",
       "atemp         0.631066\n",
       "hum          -0.100659\n",
       "windspeed    -0.234545\n",
       "dtype: float64"
      ]
     },
     "execution_count": 12,
     "metadata": {},
     "output_type": "execute_result"
    }
   ],
   "source": [
    "parameters = [\"mnth\",\"holiday\",\"weekday\",\"workingday\",\"weathersit\",\"temp\",\"atemp\",\"hum\",\"windspeed\"]\n",
    "day_df.loc[:,parameters].corrwith(day_df.cnt)"
   ]
  },
  {
   "attachments": {},
   "cell_type": "markdown",
   "metadata": {
    "id": "d98DftBhGVq6"
   },
   "source": [
    "Berdasarkan informasi di atas, kita dapat mengetahui beberapa hal\n",
    "* Suhu, `temp & atemp` memiliki korelasi positif yang tinggi.Ini berarti para pengguna cenderung bersepeda saat suhu di luar sedang hangat.\n",
    "* Bulan atau `mnth` memilik korelasi positif tetapi tidak terlalu signifikat.\n",
    "* Agak diluar dugaan bahwa hari tidak memiliki korelasi signifikat terhadap jumlah pengguna sepeda, `holiday, weekday, workingday` memiliki korelasi mendekati 0.\n",
    "* `weathersit, hum , windspeed` memiliki korelasi negatif yang tidak terlalu signifikat.\n",
    "\n",
    "Tetapi ini adalah hasil korelasi terhadap `cnt` yang mana merupakan gabungan antara dua tipe pengguna. Selanjutnya saya akan melihat korelasi setiap parameter terhadap kedua tipe pengguna."
   ]
  },
  {
   "cell_type": "code",
   "execution_count": 13,
   "metadata": {
    "colab": {
     "base_uri": "https://localhost:8080/"
    },
    "id": "CJqFtpiUFmlj",
    "outputId": "9161990d-8a95-45e3-9b26-b298e01b16da"
   },
   "outputs": [
    {
     "data": {
      "text/plain": [
       "mnth          0.123006\n",
       "holiday       0.054274\n",
       "weekday       0.059923\n",
       "workingday   -0.518044\n",
       "weathersit   -0.247353\n",
       "temp          0.543285\n",
       "atemp         0.543864\n",
       "hum          -0.077008\n",
       "windspeed    -0.167613\n",
       "dtype: float64"
      ]
     },
     "execution_count": 13,
     "metadata": {},
     "output_type": "execute_result"
    }
   ],
   "source": [
    "day_df.loc[:,parameters].corrwith(day_df.casual)"
   ]
  },
  {
   "attachments": {},
   "cell_type": "markdown",
   "metadata": {
    "id": "c8MP6-j2KN_8"
   },
   "source": [
    "Berdasarkan informasi diatas ,kita dapat mengetahui beberapa hal\n",
    "* Suhu masih tetap menjadi faktor penting bagi pengguna kasual\n",
    "* `workingday` atau hari kerja memiliki korelasi negatif yang signifikat. Ini berarti para pengguna kasual lebih menyukai bersepeda disaat weekend atau hari libur. Tetapi anehnya `holiday` tidak memiliki korelasi yang signifikat, apakah pengguna kasual lebih cenderung bersepeda di hari weekend ?\n",
    "* parameter `weathersit, hum , windspeed` masih memiliki korelasi yang kurang signifikat\n",
    "\n",
    "untuk menjawab pertanyaan tersebut saya akan memodifikasi kolom `weekday` dengan membuat standar hari mulai dari hari senin = 1 - minggu = 7."
   ]
  },
  {
   "cell_type": "code",
   "execution_count": 14,
   "metadata": {
    "colab": {
     "base_uri": "https://localhost:8080/"
    },
    "id": "63LGirXyMSll",
    "outputId": "38ac6aef-ce43-49f8-efe5-70794cbcf616"
   },
   "outputs": [
    {
     "data": {
      "text/plain": [
       "mnth          0.123006\n",
       "holiday       0.054274\n",
       "weekday       0.418415\n",
       "workingday   -0.518044\n",
       "weathersit   -0.247353\n",
       "temp          0.543285\n",
       "atemp         0.543864\n",
       "hum          -0.077008\n",
       "windspeed    -0.167613\n",
       "dtype: float64"
      ]
     },
     "execution_count": 14,
     "metadata": {},
     "output_type": "execute_result"
    }
   ],
   "source": [
    "day_df.weekday.mask(day_df.weekday==0,7, inplace=True)\n",
    "day_df.loc[:,parameters].corrwith(day_df.casual)"
   ]
  },
  {
   "attachments": {},
   "cell_type": "markdown",
   "metadata": {
    "id": "wSujtOxbNoGv"
   },
   "source": [
    "dan benar, weekday memiliki korelasi positif yang cukup signifikat."
   ]
  },
  {
   "attachments": {},
   "cell_type": "markdown",
   "metadata": {
    "id": "iJleKTxuPFjf"
   },
   "source": [
    "selanjutnya kita akan melihat korelasi masing-masing parameter terhadap pengguna tipe \"registered\""
   ]
  },
  {
   "cell_type": "code",
   "execution_count": 15,
   "metadata": {
    "colab": {
     "base_uri": "https://localhost:8080/"
    },
    "id": "DE8UshOGFwiK",
    "outputId": "6ec1dcf8-8ae5-41ac-e584-c688f272123e"
   },
   "outputs": [
    {
     "data": {
      "text/plain": [
       "mnth          0.293488\n",
       "holiday      -0.108745\n",
       "weekday      -0.189080\n",
       "workingday    0.303907\n",
       "weathersit   -0.260388\n",
       "temp          0.540012\n",
       "atemp         0.544192\n",
       "hum          -0.091089\n",
       "windspeed    -0.217449\n",
       "dtype: float64"
      ]
     },
     "execution_count": 15,
     "metadata": {},
     "output_type": "execute_result"
    }
   ],
   "source": [
    "day_df.loc[:,parameters].corrwith(day_df.registered)"
   ]
  },
  {
   "attachments": {},
   "cell_type": "markdown",
   "metadata": {
    "id": "mJbuimulPdWR"
   },
   "source": [
    "Berdasarkan informasi diatas ,kita dapat mengetahui beberapa hal. Suhu tentunya masih merupakan faktor penting bagi pengguna tipe \"registered\". Tapi terdapat sedikit perbedaan terhadap pengguna kasual, pengguna tipe \"registered\" cenderung lebih sering menggunakan sepeda pada hari kerja. Mungkin karena pengguna tipe ini menggunakan sepeda untuk sarana transportasi mereka saat bekerja ? kita tidak dapat mengetahui pastinya."
   ]
  },
  {
   "attachments": {},
   "cell_type": "markdown",
   "metadata": {
    "id": "ah0AzviPTF83"
   },
   "source": [
    "selanjutnya saya ingin melihat di jam-jam berapa pengguna cenderung bersepeda"
   ]
  },
  {
   "cell_type": "code",
   "execution_count": 16,
   "metadata": {
    "colab": {
     "base_uri": "https://localhost:8080/",
     "height": 833
    },
    "id": "B00mlFjdREGI",
    "outputId": "b8d67058-5e97-4daa-ab6c-31af6b278bf1"
   },
   "outputs": [
    {
     "data": {
      "text/html": [
       "<div>\n",
       "<style scoped>\n",
       "    .dataframe tbody tr th:only-of-type {\n",
       "        vertical-align: middle;\n",
       "    }\n",
       "\n",
       "    .dataframe tbody tr th {\n",
       "        vertical-align: top;\n",
       "    }\n",
       "\n",
       "    .dataframe thead th {\n",
       "        text-align: right;\n",
       "    }\n",
       "</style>\n",
       "<table border=\"1\" class=\"dataframe\">\n",
       "  <thead>\n",
       "    <tr style=\"text-align: right;\">\n",
       "      <th></th>\n",
       "      <th>casual</th>\n",
       "      <th>registered</th>\n",
       "      <th>cnt</th>\n",
       "    </tr>\n",
       "    <tr>\n",
       "      <th>hr</th>\n",
       "      <th></th>\n",
       "      <th></th>\n",
       "      <th></th>\n",
       "    </tr>\n",
       "  </thead>\n",
       "  <tbody>\n",
       "    <tr>\n",
       "      <th>17</th>\n",
       "      <td>54220</td>\n",
       "      <td>282640</td>\n",
       "      <td>336860</td>\n",
       "    </tr>\n",
       "    <tr>\n",
       "      <th>18</th>\n",
       "      <td>44496</td>\n",
       "      <td>265276</td>\n",
       "      <td>309772</td>\n",
       "    </tr>\n",
       "    <tr>\n",
       "      <th>8</th>\n",
       "      <td>15761</td>\n",
       "      <td>245240</td>\n",
       "      <td>261001</td>\n",
       "    </tr>\n",
       "    <tr>\n",
       "      <th>16</th>\n",
       "      <td>53834</td>\n",
       "      <td>173914</td>\n",
       "      <td>227748</td>\n",
       "    </tr>\n",
       "    <tr>\n",
       "      <th>19</th>\n",
       "      <td>35505</td>\n",
       "      <td>191284</td>\n",
       "      <td>226789</td>\n",
       "    </tr>\n",
       "    <tr>\n",
       "      <th>13</th>\n",
       "      <td>52713</td>\n",
       "      <td>132206</td>\n",
       "      <td>184919</td>\n",
       "    </tr>\n",
       "    <tr>\n",
       "      <th>12</th>\n",
       "      <td>49718</td>\n",
       "      <td>134696</td>\n",
       "      <td>184414</td>\n",
       "    </tr>\n",
       "    <tr>\n",
       "      <th>15</th>\n",
       "      <td>54606</td>\n",
       "      <td>128543</td>\n",
       "      <td>183149</td>\n",
       "    </tr>\n",
       "    <tr>\n",
       "      <th>14</th>\n",
       "      <td>55089</td>\n",
       "      <td>120563</td>\n",
       "      <td>175652</td>\n",
       "    </tr>\n",
       "    <tr>\n",
       "      <th>20</th>\n",
       "      <td>26378</td>\n",
       "      <td>138172</td>\n",
       "      <td>164550</td>\n",
       "    </tr>\n",
       "    <tr>\n",
       "      <th>9</th>\n",
       "      <td>22458</td>\n",
       "      <td>136980</td>\n",
       "      <td>159438</td>\n",
       "    </tr>\n",
       "    <tr>\n",
       "      <th>7</th>\n",
       "      <td>8037</td>\n",
       "      <td>146134</td>\n",
       "      <td>154171</td>\n",
       "    </tr>\n",
       "    <tr>\n",
       "      <th>11</th>\n",
       "      <td>43286</td>\n",
       "      <td>108034</td>\n",
       "      <td>151320</td>\n",
       "    </tr>\n",
       "    <tr>\n",
       "      <th>10</th>\n",
       "      <td>33789</td>\n",
       "      <td>92468</td>\n",
       "      <td>126257</td>\n",
       "    </tr>\n",
       "    <tr>\n",
       "      <th>21</th>\n",
       "      <td>20570</td>\n",
       "      <td>104875</td>\n",
       "      <td>125445</td>\n",
       "    </tr>\n",
       "    <tr>\n",
       "      <th>22</th>\n",
       "      <td>16200</td>\n",
       "      <td>79412</td>\n",
       "      <td>95612</td>\n",
       "    </tr>\n",
       "    <tr>\n",
       "      <th>23</th>\n",
       "      <td>11065</td>\n",
       "      <td>52876</td>\n",
       "      <td>63941</td>\n",
       "    </tr>\n",
       "    <tr>\n",
       "      <th>6</th>\n",
       "      <td>3017</td>\n",
       "      <td>52115</td>\n",
       "      <td>55132</td>\n",
       "    </tr>\n",
       "    <tr>\n",
       "      <th>0</th>\n",
       "      <td>7375</td>\n",
       "      <td>31755</td>\n",
       "      <td>39130</td>\n",
       "    </tr>\n",
       "    <tr>\n",
       "      <th>1</th>\n",
       "      <td>4709</td>\n",
       "      <td>19455</td>\n",
       "      <td>24164</td>\n",
       "    </tr>\n",
       "    <tr>\n",
       "      <th>2</th>\n",
       "      <td>3412</td>\n",
       "      <td>12940</td>\n",
       "      <td>16352</td>\n",
       "    </tr>\n",
       "    <tr>\n",
       "      <th>5</th>\n",
       "      <td>1012</td>\n",
       "      <td>13249</td>\n",
       "      <td>14261</td>\n",
       "    </tr>\n",
       "    <tr>\n",
       "      <th>3</th>\n",
       "      <td>1893</td>\n",
       "      <td>6281</td>\n",
       "      <td>8174</td>\n",
       "    </tr>\n",
       "    <tr>\n",
       "      <th>4</th>\n",
       "      <td>874</td>\n",
       "      <td>3554</td>\n",
       "      <td>4428</td>\n",
       "    </tr>\n",
       "  </tbody>\n",
       "</table>\n",
       "</div>"
      ],
      "text/plain": [
       "    casual  registered     cnt\n",
       "hr                            \n",
       "17   54220      282640  336860\n",
       "18   44496      265276  309772\n",
       "8    15761      245240  261001\n",
       "16   53834      173914  227748\n",
       "19   35505      191284  226789\n",
       "13   52713      132206  184919\n",
       "12   49718      134696  184414\n",
       "15   54606      128543  183149\n",
       "14   55089      120563  175652\n",
       "20   26378      138172  164550\n",
       "9    22458      136980  159438\n",
       "7     8037      146134  154171\n",
       "11   43286      108034  151320\n",
       "10   33789       92468  126257\n",
       "21   20570      104875  125445\n",
       "22   16200       79412   95612\n",
       "23   11065       52876   63941\n",
       "6     3017       52115   55132\n",
       "0     7375       31755   39130\n",
       "1     4709       19455   24164\n",
       "2     3412       12940   16352\n",
       "5     1012       13249   14261\n",
       "3     1893        6281    8174\n",
       "4      874        3554    4428"
      ]
     },
     "execution_count": 16,
     "metadata": {},
     "output_type": "execute_result"
    }
   ],
   "source": [
    "hour_df.groupby(by='hr').agg({\n",
    "    'casual':'sum',\n",
    "    'registered':'sum',\n",
    "    'cnt':'sum',\n",
    "}).sort_values('cnt',ascending=False)"
   ]
  },
  {
   "attachments": {},
   "cell_type": "markdown",
   "metadata": {
    "id": "9Fe9w7y4TaxK"
   },
   "source": [
    "Mungkin akan lebih baik jika saya membegi waktu menjadi beberapa bagian. Saya akan menggunakan gambar ini sebagai referensi, tetapi menggabungkan 'petang' dengan 'sore'\n",
    "\n",
    "<img src=\"https://blogger.googleusercontent.com/img/b/R29vZ2xl/AVvXsEhZBn-P_BATZJ54Le2A_1eQ_7jQ2O2RSlsXAAqpKmIbnLFVnohdEeaFXMPGpo-C_iSGdAAGdrT4HpdqGOoG_q8ZO7ciujat2YIS4cRRim1XIn35qHbPmWJ-EugA_fYut1iR7ilFljfTcZCZomrwcwhGl750dNROkWeK1w8bBiOIOQGGGM5f8zKUa9Mm/s904/soal%20pembagian%20waktu%20pagi%20siang%20sore%20petang%20malam.png\">"
   ]
  },
  {
   "cell_type": "code",
   "execution_count": 17,
   "metadata": {
    "colab": {
     "base_uri": "https://localhost:8080/",
     "height": 357
    },
    "id": "7UM3EUmrUbZX",
    "outputId": "851a360e-fb72-41bb-cd4e-b4afa5169050"
   },
   "outputs": [
    {
     "data": {
      "text/html": [
       "<div>\n",
       "<style scoped>\n",
       "    .dataframe tbody tr th:only-of-type {\n",
       "        vertical-align: middle;\n",
       "    }\n",
       "\n",
       "    .dataframe tbody tr th {\n",
       "        vertical-align: top;\n",
       "    }\n",
       "\n",
       "    .dataframe thead th {\n",
       "        text-align: right;\n",
       "    }\n",
       "</style>\n",
       "<table border=\"1\" class=\"dataframe\">\n",
       "  <thead>\n",
       "    <tr style=\"text-align: right;\">\n",
       "      <th></th>\n",
       "      <th>instant</th>\n",
       "      <th>dteday</th>\n",
       "      <th>season</th>\n",
       "      <th>yr</th>\n",
       "      <th>mnth</th>\n",
       "      <th>hr</th>\n",
       "      <th>holiday</th>\n",
       "      <th>weekday</th>\n",
       "      <th>workingday</th>\n",
       "      <th>weathersit</th>\n",
       "      <th>temp</th>\n",
       "      <th>atemp</th>\n",
       "      <th>hum</th>\n",
       "      <th>windspeed</th>\n",
       "      <th>casual</th>\n",
       "      <th>registered</th>\n",
       "      <th>cnt</th>\n",
       "      <th>hr_group</th>\n",
       "    </tr>\n",
       "  </thead>\n",
       "  <tbody>\n",
       "    <tr>\n",
       "      <th>0</th>\n",
       "      <td>1</td>\n",
       "      <td>2011-01-01</td>\n",
       "      <td>1</td>\n",
       "      <td>0</td>\n",
       "      <td>1</td>\n",
       "      <td>0</td>\n",
       "      <td>0</td>\n",
       "      <td>6</td>\n",
       "      <td>0</td>\n",
       "      <td>1</td>\n",
       "      <td>0.24</td>\n",
       "      <td>0.2879</td>\n",
       "      <td>0.81</td>\n",
       "      <td>0.0</td>\n",
       "      <td>3</td>\n",
       "      <td>13</td>\n",
       "      <td>16</td>\n",
       "      <td>malam</td>\n",
       "    </tr>\n",
       "    <tr>\n",
       "      <th>1</th>\n",
       "      <td>2</td>\n",
       "      <td>2011-01-01</td>\n",
       "      <td>1</td>\n",
       "      <td>0</td>\n",
       "      <td>1</td>\n",
       "      <td>1</td>\n",
       "      <td>0</td>\n",
       "      <td>6</td>\n",
       "      <td>0</td>\n",
       "      <td>1</td>\n",
       "      <td>0.22</td>\n",
       "      <td>0.2727</td>\n",
       "      <td>0.80</td>\n",
       "      <td>0.0</td>\n",
       "      <td>8</td>\n",
       "      <td>32</td>\n",
       "      <td>40</td>\n",
       "      <td>malam</td>\n",
       "    </tr>\n",
       "    <tr>\n",
       "      <th>2</th>\n",
       "      <td>3</td>\n",
       "      <td>2011-01-01</td>\n",
       "      <td>1</td>\n",
       "      <td>0</td>\n",
       "      <td>1</td>\n",
       "      <td>2</td>\n",
       "      <td>0</td>\n",
       "      <td>6</td>\n",
       "      <td>0</td>\n",
       "      <td>1</td>\n",
       "      <td>0.22</td>\n",
       "      <td>0.2727</td>\n",
       "      <td>0.80</td>\n",
       "      <td>0.0</td>\n",
       "      <td>5</td>\n",
       "      <td>27</td>\n",
       "      <td>32</td>\n",
       "      <td>malam</td>\n",
       "    </tr>\n",
       "    <tr>\n",
       "      <th>3</th>\n",
       "      <td>4</td>\n",
       "      <td>2011-01-01</td>\n",
       "      <td>1</td>\n",
       "      <td>0</td>\n",
       "      <td>1</td>\n",
       "      <td>3</td>\n",
       "      <td>0</td>\n",
       "      <td>6</td>\n",
       "      <td>0</td>\n",
       "      <td>1</td>\n",
       "      <td>0.24</td>\n",
       "      <td>0.2879</td>\n",
       "      <td>0.75</td>\n",
       "      <td>0.0</td>\n",
       "      <td>3</td>\n",
       "      <td>10</td>\n",
       "      <td>13</td>\n",
       "      <td>pagi</td>\n",
       "    </tr>\n",
       "    <tr>\n",
       "      <th>4</th>\n",
       "      <td>5</td>\n",
       "      <td>2011-01-01</td>\n",
       "      <td>1</td>\n",
       "      <td>0</td>\n",
       "      <td>1</td>\n",
       "      <td>4</td>\n",
       "      <td>0</td>\n",
       "      <td>6</td>\n",
       "      <td>0</td>\n",
       "      <td>1</td>\n",
       "      <td>0.24</td>\n",
       "      <td>0.2879</td>\n",
       "      <td>0.75</td>\n",
       "      <td>0.0</td>\n",
       "      <td>0</td>\n",
       "      <td>1</td>\n",
       "      <td>1</td>\n",
       "      <td>pagi</td>\n",
       "    </tr>\n",
       "  </tbody>\n",
       "</table>\n",
       "</div>"
      ],
      "text/plain": [
       "   instant      dteday  season  yr  mnth  hr  holiday  weekday  workingday  \\\n",
       "0        1  2011-01-01       1   0     1   0        0        6           0   \n",
       "1        2  2011-01-01       1   0     1   1        0        6           0   \n",
       "2        3  2011-01-01       1   0     1   2        0        6           0   \n",
       "3        4  2011-01-01       1   0     1   3        0        6           0   \n",
       "4        5  2011-01-01       1   0     1   4        0        6           0   \n",
       "\n",
       "   weathersit  temp   atemp   hum  windspeed  casual  registered  cnt hr_group  \n",
       "0           1  0.24  0.2879  0.81        0.0       3          13   16    malam  \n",
       "1           1  0.22  0.2727  0.80        0.0       8          32   40    malam  \n",
       "2           1  0.22  0.2727  0.80        0.0       5          27   32    malam  \n",
       "3           1  0.24  0.2879  0.75        0.0       3          10   13     pagi  \n",
       "4           1  0.24  0.2879  0.75        0.0       0           1    1     pagi  "
      ]
     },
     "execution_count": 17,
     "metadata": {},
     "output_type": "execute_result"
    }
   ],
   "source": [
    "def kelompokwaktu(hr):\n",
    "  if hr in [0,1,2,19,20,21,22,23]:\n",
    "    return \"malam\"\n",
    "  if hr in [3,4,5,6,7,8,9]:\n",
    "    return 'pagi'\n",
    "  if hr in [10,11,12,13,14]:\n",
    "    return 'siang'\n",
    "  if hr in [15,16,17,18]:\n",
    "    return 'sore'\n",
    "\n",
    "hour_df['hr_group'] = hour_df.hr.apply(kelompokwaktu)\n",
    "hour_df.head()"
   ]
  },
  {
   "cell_type": "code",
   "execution_count": 18,
   "metadata": {
    "colab": {
     "base_uri": "https://localhost:8080/",
     "height": 206
    },
    "id": "XGkRQ7IdWR8z",
    "outputId": "61c34f15-9879-4fa5-fcab-bd7aabdba46d"
   },
   "outputs": [
    {
     "data": {
      "text/html": [
       "<div>\n",
       "<style scoped>\n",
       "    .dataframe tbody tr th:only-of-type {\n",
       "        vertical-align: middle;\n",
       "    }\n",
       "\n",
       "    .dataframe tbody tr th {\n",
       "        vertical-align: top;\n",
       "    }\n",
       "\n",
       "    .dataframe thead th {\n",
       "        text-align: right;\n",
       "    }\n",
       "</style>\n",
       "<table border=\"1\" class=\"dataframe\">\n",
       "  <thead>\n",
       "    <tr style=\"text-align: right;\">\n",
       "      <th></th>\n",
       "      <th>casual</th>\n",
       "      <th>registered</th>\n",
       "      <th>cnt</th>\n",
       "    </tr>\n",
       "    <tr>\n",
       "      <th>hr_group</th>\n",
       "      <th></th>\n",
       "      <th></th>\n",
       "      <th></th>\n",
       "    </tr>\n",
       "  </thead>\n",
       "  <tbody>\n",
       "    <tr>\n",
       "      <th>sore</th>\n",
       "      <td>207156</td>\n",
       "      <td>850373</td>\n",
       "      <td>1057529</td>\n",
       "    </tr>\n",
       "    <tr>\n",
       "      <th>siang</th>\n",
       "      <td>234595</td>\n",
       "      <td>587967</td>\n",
       "      <td>822562</td>\n",
       "    </tr>\n",
       "    <tr>\n",
       "      <th>malam</th>\n",
       "      <td>125214</td>\n",
       "      <td>630769</td>\n",
       "      <td>755983</td>\n",
       "    </tr>\n",
       "    <tr>\n",
       "      <th>pagi</th>\n",
       "      <td>53052</td>\n",
       "      <td>603553</td>\n",
       "      <td>656605</td>\n",
       "    </tr>\n",
       "  </tbody>\n",
       "</table>\n",
       "</div>"
      ],
      "text/plain": [
       "          casual  registered      cnt\n",
       "hr_group                             \n",
       "sore      207156      850373  1057529\n",
       "siang     234595      587967   822562\n",
       "malam     125214      630769   755983\n",
       "pagi       53052      603553   656605"
      ]
     },
     "execution_count": 18,
     "metadata": {},
     "output_type": "execute_result"
    }
   ],
   "source": [
    "hour_df.groupby(by='hr_group').agg({\n",
    "    'casual':'sum',\n",
    "    'registered':'sum',\n",
    "    'cnt':'sum',\n",
    "}).sort_values('cnt',ascending=False)"
   ]
  },
  {
   "attachments": {},
   "cell_type": "markdown",
   "metadata": {
    "id": "QMLKYrXungub"
   },
   "source": [
    "berdasarkan informasi diatas dapat dilihat bahwa secara keseluruhan pengguna sepeda lebih cenderung menggunakan sepeda di sore hari"
   ]
  },
  {
   "attachments": {},
   "cell_type": "markdown",
   "metadata": {
    "id": "Iy2OneT8bTr2"
   },
   "source": [
    "## Visualisasi data"
   ]
  },
  {
   "attachments": {},
   "cell_type": "markdown",
   "metadata": {
    "id": "ujFiA7jwUIG0"
   },
   "source": [
    "### Bagaimana statistik pengguna per hari?"
   ]
  },
  {
   "cell_type": "code",
   "execution_count": 19,
   "metadata": {
    "id": "QjcwEMYpwie5"
   },
   "outputs": [],
   "source": [
    "hour_df['dteday'] = pd.to_datetime(hour_df['dteday'])\n",
    "day_df['dteday'] = pd.to_datetime(day_df['dteday'])"
   ]
  },
  {
   "cell_type": "code",
   "execution_count": 20,
   "metadata": {
    "id": "08VlH7SLwIQF"
   },
   "outputs": [],
   "source": [
    "def plot_per_hours(day):\n",
    "  one_day = hour_df.loc[hour_df.dteday == day].copy()\n",
    "  # normalisasi\n",
    "  one_day.casual = (one_day.casual - one_day.casual.mean()) / one_day.casual.std()\n",
    "  one_day.registered = (one_day.registered - one_day.registered.mean()) / one_day.registered.std()\n",
    "\n",
    "  plt.figure(figsize=(12, 5))\n",
    "  plt.plot(one_day['hr'], one_day['casual'], color='#66ff66')\n",
    "  plt.plot(one_day['hr'], one_day['registered'], color='#ff6666')\n",
    "  plt.title(f'user stats on {day.date()}')\n",
    "  plt.xticks(one_day['hr'])\n",
    "  plt.yticks([])\n",
    "  plt.xlabel('hour',size=15)\n",
    "  plt.ylabel(\"Stats\")\n",
    "  plt.legend(['casual user','registered user'])\n",
    "  plt.show()"
   ]
  },
  {
   "cell_type": "code",
   "execution_count": 21,
   "metadata": {
    "colab": {
     "base_uri": "https://localhost:8080/",
     "height": 0
    },
    "id": "jPaTXcpXwsqo",
    "outputId": "7817f857-5b77-45e6-a65e-e74403a9930e"
   },
   "outputs": [
    {
     "data": {
      "image/png": "[encoded data removed]",
      "text/plain": [
       "<Figure size 864x360 with 1 Axes>"
      ]
     },
     "metadata": {
      "needs_background": "light"
     },
     "output_type": "display_data"
    }
   ],
   "source": [
    "plot_per_hours(datetime.datetime(2012,12,12))"
   ]
  },
  {
   "attachments": {},
   "cell_type": "markdown",
   "metadata": {
    "id": "YCUvkyCdW4mC"
   },
   "source": [
    "### Saat jam-jam berapa user lebih sering menggunakan sepeda ?"
   ]
  },
  {
   "cell_type": "code",
   "execution_count": 22,
   "metadata": {
    "colab": {
     "base_uri": "https://localhost:8080/",
     "height": 0
    },
    "id": "Rk3dNGg2bWu7",
    "outputId": "b1476e7d-2532-448b-8de5-9a15d3ad5e13"
   },
   "outputs": [
    {
     "data": {
      "image/png": "[encoded data removed]",
      "text/plain": [
       "<Figure size 1080x1080 with 2 Axes>"
      ]
     },
     "metadata": {},
     "output_type": "display_data"
    }
   ],
   "source": [
    "by_hr_group =  hour_df.groupby(by='hr_group').agg({\n",
    "                    'casual':'sum',\n",
    "                    'registered':'sum',\n",
    "                }).reset_index()\n",
    "\n",
    "fig = plt.gcf()\n",
    "fig.set_size_inches(15,15)\n",
    "colors = ('#8888ff', '#ddff00', '#fedadf', '#ffaa55')\n",
    "\n",
    "plt.subplot(1,2,1)\n",
    "plt.title('Casual users')\n",
    "plt.pie(\n",
    "    x=by_hr_group.casual,\n",
    "    autopct='%1.1f%%',\n",
    "    colors=colors,\n",
    "    explode=(0, 0, 0.1, 0)\n",
    ")\n",
    "\n",
    "plt.subplot(1,2,2)\n",
    "plt.title('Registered users')\n",
    "plt.pie(\n",
    "    x=by_hr_group.registered,\n",
    "    autopct='%1.1f%%',\n",
    "    colors=colors,\n",
    "    explode=(0, 0, 0, 0.1)\n",
    ")\n",
    "plt.legend(by_hr_group.hr_group)\n",
    "plt.show()"
   ]
  },
  {
   "attachments": {},
   "cell_type": "markdown",
   "metadata": {
    "id": "GJNNg0evYBmz"
   },
   "source": [
    "### Bagaimana perbandingan preferensi setiap user dalam hari bersepeda ?"
   ]
  },
  {
   "cell_type": "code",
   "execution_count": 23,
   "metadata": {
    "colab": {
     "base_uri": "https://localhost:8080/",
     "height": 0
    },
    "id": "7KM0nDc3iIv4",
    "outputId": "d26c6a28-cd9e-4bbd-b0a8-d79ebef98484"
   },
   "outputs": [
    {
     "data": {
      "image/png": "[encoded data removed]",
      "text/plain": [
       "<Figure size 432x288 with 1 Axes>"
      ]
     },
     "metadata": {
      "needs_background": "light"
     },
     "output_type": "display_data"
    }
   ],
   "source": [
    "by_weekday =  day_df.groupby(by='weekday').agg({\n",
    "                    'casual':'sum',\n",
    "                    'registered':'sum',\n",
    "                }).reset_index()\n",
    "\n",
    "X = ['senin','selasa','rabu','kamis','jumat','sabtu','minggu']\n",
    "X_axis = by_weekday.weekday\n",
    "\n",
    "by_weekday.casual = (by_weekday.casual - by_weekday.casual.mean()) / by_weekday.casual.std()\n",
    "by_weekday.registered = (by_weekday.registered - by_weekday.registered.mean()) / by_weekday.registered.std()\n",
    "\n",
    "plt.bar(X_axis, by_weekday.casual, 0.04, color='#dadada')\n",
    "plt.bar(X_axis, by_weekday.registered, 0.04, color='#dadada')\n",
    "\n",
    "plt.plot(X_axis, by_weekday.casual, label = 'casual', color='#4afa4a')\n",
    "plt.plot(X_axis, by_weekday.registered, label = 'registered', color='#4a4afa')\n",
    "\n",
    "plt.xticks(X_axis, X)\n",
    "plt.yticks([])\n",
    "plt.xlabel(None)\n",
    "plt.ylabel(\"user stats\")\n",
    "plt.title(\"Perbandingan preferensi hari pengguna casual dan registered\")\n",
    "plt.legend()\n",
    "plt.show()"
   ]
  },
  {
   "attachments": {},
   "cell_type": "markdown",
   "metadata": {
    "id": "3NFCyLgsHTXD"
   },
   "source": [
    "### Parameter apa yang paling berpengaruh ?"
   ]
  },
  {
   "cell_type": "code",
   "execution_count": 24,
   "metadata": {
    "id": "BqniCB1aIMeC"
   },
   "outputs": [],
   "source": [
    "def get_corr(_with):\n",
    "  corr_index = [\"month\",\"holiday\",\"weekday\",\"working day\",\"weather\",\"temperature\",\"feeling temperature\",\"humidity\",\"windspeed\",]\n",
    "  corr = day_df.loc[:,parameters].corrwith(_with)\n",
    "  corr.index = corr_index\n",
    "  corr = corr.abs().reset_index().rename({0:'corr'}, axis=1)\n",
    "  return corr"
   ]
  },
  {
   "cell_type": "code",
   "execution_count": 25,
   "metadata": {
    "id": "eq6_uFBzMu9k"
   },
   "outputs": [],
   "source": [
    "def corr_barplot(_with, title=\"all user count\"):\n",
    "  corr = get_corr(_with)\n",
    "  fig, ax = plt.subplots(nrows=1, ncols=2, figsize=(24, 6))\n",
    "\n",
    "  colors1 = [ \"#FDBB44\",\"#FDBB44\",\"#FDAA88\", \"#FDAA88\",\"#D3D3D3\"]\n",
    "  colors2 = [ \"#FB4444\",\"#FB4444\",\"#D3D3D3\", \"#D3D3D3\",\"#D3D3D3\"]\n",
    "\n",
    "  sns.barplot(x='corr', y='index',data=corr.sort_values(by=\"corr\",ascending=False).head(), palette=colors1, ax=ax[0])\n",
    "  ax[0].set_ylabel(None)\n",
    "  ax[0].set_xlabel(None)\n",
    "  ax[0].set_title(\"Most Correlation\", loc=\"center\", fontsize=15)\n",
    "  ax[0].tick_params(axis ='y', labelsize=12)\n",
    "\n",
    "  sns.barplot(x='corr', y='index',data=corr.sort_values(by=\"corr\",ascending=True) .head(), palette=colors2, ax=ax[1])\n",
    "  ax[1].set_ylabel(None)\n",
    "  ax[1].set_xlabel(None)\n",
    "  ax[1].invert_xaxis()\n",
    "  ax[1].yaxis.set_label_position(\"right\")\n",
    "  ax[1].yaxis.tick_right()\n",
    "  ax[1].set_title(\"Least Correlation\", loc=\"center\", fontsize=15)\n",
    "  ax[1].tick_params(axis='y', labelsize=12)\n",
    "\n",
    "  plt.suptitle(f\"Most and Least correlation with {title} \", fontsize=20)\n",
    "  plt.show()"
   ]
  },
  {
   "cell_type": "code",
   "execution_count": 26,
   "metadata": {
    "colab": {
     "base_uri": "https://localhost:8080/",
     "height": 307
    },
    "id": "ivUdhQ4hOr6B",
    "outputId": "5191206a-f3c2-4969-971a-28d9162d1192"
   },
   "outputs": [
    {
     "data": {
      "image/png": "[encoded data removed]",
      "text/plain": [
       "<Figure size 1728x432 with 2 Axes>"
      ]
     },
     "metadata": {
      "needs_background": "light"
     },
     "output_type": "display_data"
    }
   ],
   "source": [
    "corr_barplot(day_df.cnt,\"all user count\")"
   ]
  },
  {
   "cell_type": "code",
   "execution_count": 27,
   "metadata": {
    "colab": {
     "base_uri": "https://localhost:8080/",
     "height": 309
    },
    "id": "80xnDY8_SwER",
    "outputId": "f876b01d-77f2-44c4-adc2-f53a0d33e74c"
   },
   "outputs": [
    {
     "data": {
      "image/png": "[encoded data removed]",
      "text/plain": [
       "<Figure size 1728x432 with 2 Axes>"
      ]
     },
     "metadata": {
      "needs_background": "light"
     },
     "output_type": "display_data"
    }
   ],
   "source": [
    "corr_barplot(day_df.casual,\"casual user count\")"
   ]
  },
  {
   "cell_type": "code",
   "execution_count": 28,
   "metadata": {
    "colab": {
     "base_uri": "https://localhost:8080/",
     "height": 309
    },
    "id": "yvyfrLkVTGfR",
    "outputId": "03e44c2a-3f8e-4d33-e779-f570e5a495ef"
   },
   "outputs": [
    {
     "data": {
      "image/png": "[encoded data removed]",
      "text/plain": [
       "<Figure size 1728x432 with 2 Axes>"
      ]
     },
     "metadata": {
      "needs_background": "light"
     },
     "output_type": "display_data"
    }
   ],
   "source": [
    "corr_barplot(day_df.registered,\"registered user count\")"
   ]
  },
  {
   "attachments": {},
   "cell_type": "markdown",
   "metadata": {
    "id": "mNjks372kP46"
   },
   "source": [
    "## Kesimpulan\n",
    "\n",
    "Dataset Bike Sharing adalah dataset yang *well-maintaned* sehingga saya tidak perlu melakukan proses data cleaning yg intensif. Pengguna dari sitem informasi \"Bike Sharing\" terbagi menjadi dua yaitu casual user dan registered user. Terdapat perbedaan yang signifikat antara sifat dari kedua tipe user ini. Pengguna tipe *casual* lebih sering bersepeda saat bukan hari kerja dan cenderung pada siang hari. Sedangkan pengguna tipe registered lebih sering bersepeda di hari kerja dan cenderung bersepeda pada sore hari. Namun kedua tipe user juga memiliki sifat yang sama yaitu bersepeda saat suhu udara terasa hangat."
   ]
  }
 ],
 "metadata": {
  "colab": {
   "authorship_tag": "ABX9TyPw1lbF41YQGpp7Y5eVIIwI",
   "collapsed_sections": [
    "ujFiA7jwUIG0",
    "YCUvkyCdW4mC",
    "GJNNg0evYBmz",
    "3NFCyLgsHTXD"
   ],
   "include_colab_link": true,
   "provenance": [],
   "toc_visible": true
  },
  "kernelspec": {
   "name": "python3",
   "language": "python",
   "display_name": "Python 3 (ipykernel)"
  },
  "language_info": {
   "codemirror_mode": {
    "name": "ipython",
    "version": 3
   },
   "file_extension": ".py",
   "mimetype": "text/x-python",
   "name": "python",
   "nbconvert_exporter": "python",
   "pygments_lexer": "ipython3",
   "version": "3.10.3"
  }
 },
 "nbformat": 4,
 "nbformat_minor": 0
}
